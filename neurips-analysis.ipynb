{
 "cells": [
  {
   "cell_type": "code",
   "execution_count": 1,
   "id": "annual-european",
   "metadata": {
    "execution": {
     "iopub.execute_input": "2021-06-21T12:01:08.396982Z",
     "iopub.status.busy": "2021-06-21T12:01:08.395778Z",
     "iopub.status.idle": "2021-06-21T12:01:22.624365Z",
     "shell.execute_reply": "2021-06-21T12:01:22.623529Z"
    },
    "papermill": {
     "duration": 14.27176,
     "end_time": "2021-06-21T12:01:22.624538",
     "exception": false,
     "start_time": "2021-06-21T12:01:08.352778",
     "status": "completed"
    },
    "tags": []
   },
   "outputs": [
    {
     "data": {
      "text/html": [
       "<style type='text/css'>\n",
       ".datatable table.frame { margin-bottom: 0; }\n",
       ".datatable table.frame thead { border-bottom: none; }\n",
       ".datatable table.frame tr.coltypes td {  color: #FFFFFF;  line-height: 6px;  padding: 0 0.5em;}\n",
       ".datatable .bool    { background: #DDDD99; }\n",
       ".datatable .object  { background: #565656; }\n",
       ".datatable .int     { background: #5D9E5D; }\n",
       ".datatable .float   { background: #4040CC; }\n",
       ".datatable .str     { background: #CC4040; }\n",
       ".datatable .row_index {  background: var(--jp-border-color3);  border-right: 1px solid var(--jp-border-color0);  color: var(--jp-ui-font-color3);  font-size: 9px;}\n",
       ".datatable .frame tr.coltypes .row_index {  background: var(--jp-border-color0);}\n",
       ".datatable th:nth-child(2) { padding-left: 12px; }\n",
       ".datatable .hellipsis {  color: var(--jp-cell-editor-border-color);}\n",
       ".datatable .vellipsis {  background: var(--jp-layout-color0);  color: var(--jp-cell-editor-border-color);}\n",
       ".datatable .na {  color: var(--jp-cell-editor-border-color);  font-size: 80%;}\n",
       ".datatable .footer { font-size: 9px; }\n",
       ".datatable .frame_dimensions {  background: var(--jp-border-color3);  border-top: 1px solid var(--jp-border-color0);  color: var(--jp-ui-font-color3);  display: inline-block;  opacity: 0.6;  padding: 1px 10px 1px 5px;}\n",
       "</style>\n"
      ],
      "text/plain": [
       "<IPython.core.display.HTML object>"
      ]
     },
     "metadata": {},
     "output_type": "display_data"
    },
    {
     "data": {
      "text/html": [
       "<div>\n",
       "<style scoped>\n",
       "    .dataframe tbody tr th:only-of-type {\n",
       "        vertical-align: middle;\n",
       "    }\n",
       "\n",
       "    .dataframe tbody tr th {\n",
       "        vertical-align: top;\n",
       "    }\n",
       "\n",
       "    .dataframe thead th {\n",
       "        text-align: right;\n",
       "    }\n",
       "</style>\n",
       "<table border=\"1\" class=\"dataframe\">\n",
       "  <thead>\n",
       "    <tr style=\"text-align: right;\">\n",
       "      <th></th>\n",
       "      <th>source_id</th>\n",
       "      <th>year</th>\n",
       "      <th>title</th>\n",
       "      <th>abstract</th>\n",
       "      <th>full_text</th>\n",
       "    </tr>\n",
       "  </thead>\n",
       "  <tbody>\n",
       "    <tr>\n",
       "      <th>0</th>\n",
       "      <td>27</td>\n",
       "      <td>1987</td>\n",
       "      <td>Bit-Serial Neural Networks</td>\n",
       "      <td>NaN</td>\n",
       "      <td>573 \\n\\nBIT - SERIAL NEURAL  NETWORKS \\n\\nAlan F.  Murray,  Anthon...</td>\n",
       "    </tr>\n",
       "    <tr>\n",
       "      <th>1</th>\n",
       "      <td>63</td>\n",
       "      <td>1987</td>\n",
       "      <td>Connectivity Versus Entropy</td>\n",
       "      <td>NaN</td>\n",
       "      <td>1 \\n\\nCONNECTIVITY VERSUS ENTROPY \\n\\nYaser  S.  Abu-Mostafa \\n\\nC...</td>\n",
       "    </tr>\n",
       "    <tr>\n",
       "      <th>2</th>\n",
       "      <td>60</td>\n",
       "      <td>1987</td>\n",
       "      <td>The Hopfield Model with Multi-Level Neurons</td>\n",
       "      <td>NaN</td>\n",
       "      <td>278 \\n\\nTHE HOPFIELD MODEL WITH MUL TI-LEVEL NEURONS \\n\\nMichael F...</td>\n",
       "    </tr>\n",
       "    <tr>\n",
       "      <th>3</th>\n",
       "      <td>59</td>\n",
       "      <td>1987</td>\n",
       "      <td>How Neural Nets Work</td>\n",
       "      <td>NaN</td>\n",
       "      <td>442 \\n\\nAlan  Lapedes \\nRobert  Farber \\n\\nTheoretical Division \\n...</td>\n",
       "    </tr>\n",
       "    <tr>\n",
       "      <th>4</th>\n",
       "      <td>69</td>\n",
       "      <td>1987</td>\n",
       "      <td>Spatial Organization of Neural Networks: A Probabilistic Modeling ...</td>\n",
       "      <td>NaN</td>\n",
       "      <td>740 \\n\\nSPATIAL  ORGANIZATION  OF  NEURAL  NEn~ORKS: \\n\\nA PROBABI...</td>\n",
       "    </tr>\n",
       "    <tr>\n",
       "      <th>5</th>\n",
       "      <td>6</td>\n",
       "      <td>1987</td>\n",
       "      <td>A Neural-Network Solution to the Concentrator Assignment Problem</td>\n",
       "      <td>NaN</td>\n",
       "      <td>775 \\n\\nA  NEURAL-NETWORK  SOLUTION TO  THE  CONCENTRATOR \\n\\nASSI...</td>\n",
       "    </tr>\n",
       "    <tr>\n",
       "      <th>6</th>\n",
       "      <td>33</td>\n",
       "      <td>1987</td>\n",
       "      <td>LEARNING BY STATE RECURRENCE DETECTION</td>\n",
       "      <td>NaN</td>\n",
       "      <td>642 \\n\\nLEARNING BY ST ATE RECURRENCE DETECfION \\n\\nBruce E. Rosen...</td>\n",
       "    </tr>\n",
       "  </tbody>\n",
       "</table>\n",
       "</div>"
      ],
      "text/plain": [
       "   source_id  year  \\\n",
       "0         27  1987   \n",
       "1         63  1987   \n",
       "2         60  1987   \n",
       "3         59  1987   \n",
       "4         69  1987   \n",
       "5          6  1987   \n",
       "6         33  1987   \n",
       "\n",
       "                                                                   title  \\\n",
       "0                                             Bit-Serial Neural Networks   \n",
       "1                                            Connectivity Versus Entropy   \n",
       "2                            The Hopfield Model with Multi-Level Neurons   \n",
       "3                                                   How Neural Nets Work   \n",
       "4  Spatial Organization of Neural Networks: A Probabilistic Modeling ...   \n",
       "5       A Neural-Network Solution to the Concentrator Assignment Problem   \n",
       "6                                 LEARNING BY STATE RECURRENCE DETECTION   \n",
       "\n",
       "  abstract  \\\n",
       "0      NaN   \n",
       "1      NaN   \n",
       "2      NaN   \n",
       "3      NaN   \n",
       "4      NaN   \n",
       "5      NaN   \n",
       "6      NaN   \n",
       "\n",
       "                                                               full_text  \n",
       "0  573 \\n\\nBIT - SERIAL NEURAL  NETWORKS \\n\\nAlan F.  Murray,  Anthon...  \n",
       "1  1 \\n\\nCONNECTIVITY VERSUS ENTROPY \\n\\nYaser  S.  Abu-Mostafa \\n\\nC...  \n",
       "2  278 \\n\\nTHE HOPFIELD MODEL WITH MUL TI-LEVEL NEURONS \\n\\nMichael F...  \n",
       "3  442 \\n\\nAlan  Lapedes \\nRobert  Farber \\n\\nTheoretical Division \\n...  \n",
       "4  740 \\n\\nSPATIAL  ORGANIZATION  OF  NEURAL  NEn~ORKS: \\n\\nA PROBABI...  \n",
       "5  775 \\n\\nA  NEURAL-NETWORK  SOLUTION TO  THE  CONCENTRATOR \\n\\nASSI...  \n",
       "6  642 \\n\\nLEARNING BY ST ATE RECURRENCE DETECfION \\n\\nBruce E. Rosen...  "
      ]
     },
     "metadata": {},
     "output_type": "display_data"
    }
   ],
   "source": [
    "import numpy as np\n",
    "import pandas as pd\n",
    "pd.options.display.max_colwidth = 70\n",
    "\n",
    "# Use datatable to read in large datasets quickly\n",
    "!pip install datatable > /dev/null\n",
    "import datatable as dt\n",
    "papers_dt = dt.fread('../input/nips-papers-1987-2019-updated/papers.csv')\n",
    "papers = papers_dt.to_pandas()\n",
    "del papers_dt\n",
    "\n",
    "display(papers.head(7))"
   ]
  },
  {
   "cell_type": "code",
   "execution_count": 2,
   "id": "tracked-frontier",
   "metadata": {
    "execution": {
     "iopub.execute_input": "2021-06-21T12:01:22.709287Z",
     "iopub.status.busy": "2021-06-21T12:01:22.708639Z",
     "iopub.status.idle": "2021-06-21T12:01:22.714015Z",
     "shell.execute_reply": "2021-06-21T12:01:22.712952Z"
    },
    "papermill": {
     "duration": 0.049555,
     "end_time": "2021-06-21T12:01:22.714342",
     "exception": false,
     "start_time": "2021-06-21T12:01:22.664787",
     "status": "completed"
    },
    "tags": []
   },
   "outputs": [
    {
     "name": "stdout",
     "output_type": "stream",
     "text": [
      "Shape of papers dataset: (9680, 5)\n"
     ]
    }
   ],
   "source": [
    "print('Shape of papers dataset:', papers.shape)"
   ]
  },
  {
   "cell_type": "markdown",
   "id": "drawn-belly",
   "metadata": {
    "papermill": {
     "duration": 0.039608,
     "end_time": "2021-06-21T12:01:22.794635",
     "exception": false,
     "start_time": "2021-06-21T12:01:22.755027",
     "status": "completed"
    },
    "tags": []
   },
   "source": [
    "# 1. Data preprocessing and cleaning"
   ]
  },
  {
   "cell_type": "markdown",
   "id": "instructional-stomach",
   "metadata": {
    "papermill": {
     "duration": 0.039879,
     "end_time": "2021-06-21T12:01:22.875598",
     "exception": false,
     "start_time": "2021-06-21T12:01:22.835719",
     "status": "completed"
    },
    "tags": []
   },
   "source": [
    "We are going to fill in the null values in 3 columns: `title`, `abstract`, and `full_text` with an empty string ('') and convert that empty string (which is a float value) to a string.   \n",
    "\n",
    "**Note:** We could also use *.astype(str)*."
   ]
  },
  {
   "cell_type": "code",
   "execution_count": 3,
   "id": "twelve-quest",
   "metadata": {
    "execution": {
     "iopub.execute_input": "2021-06-21T12:01:22.980502Z",
     "iopub.status.busy": "2021-06-21T12:01:22.964454Z",
     "iopub.status.idle": "2021-06-21T12:01:22.983721Z",
     "shell.execute_reply": "2021-06-21T12:01:22.983177Z"
    },
    "papermill": {
     "duration": 0.068845,
     "end_time": "2021-06-21T12:01:22.983894",
     "exception": false,
     "start_time": "2021-06-21T12:01:22.915049",
     "status": "completed"
    },
    "tags": []
   },
   "outputs": [],
   "source": [
    "papers.title = papers.title.fillna('').apply(str)\n",
    "papers.abstract = papers.abstract.fillna('').apply(str)\n",
    "papers.full_text = papers.full_text.fillna('').apply(str)"
   ]
  },
  {
   "cell_type": "markdown",
   "id": "protective-bangladesh",
   "metadata": {
    "papermill": {
     "duration": 0.039745,
     "end_time": "2021-06-21T12:01:23.063974",
     "exception": false,
     "start_time": "2021-06-21T12:01:23.024229",
     "status": "completed"
    },
    "tags": []
   },
   "source": [
    "Let us look at the number of null values in the dataset before any preprocessing:"
   ]
  },
  {
   "cell_type": "code",
   "execution_count": 4,
   "id": "interstate-yield",
   "metadata": {
    "execution": {
     "iopub.execute_input": "2021-06-21T12:01:23.154008Z",
     "iopub.status.busy": "2021-06-21T12:01:23.151418Z",
     "iopub.status.idle": "2021-06-21T12:01:23.158180Z",
     "shell.execute_reply": "2021-06-21T12:01:23.159157Z"
    },
    "papermill": {
     "duration": 0.054964,
     "end_time": "2021-06-21T12:01:23.159452",
     "exception": false,
     "start_time": "2021-06-21T12:01:23.104488",
     "status": "completed"
    },
    "tags": []
   },
   "outputs": [
    {
     "name": "stdout",
     "output_type": "stream",
     "text": [
      "Number of papers with no abstract: 3319\n",
      "Number of papers with no full-text: 3\n"
     ]
    }
   ],
   "source": [
    "print('Number of papers with no abstract:', (papers.abstract.values == '').sum())\n",
    "print('Number of papers with no full-text:', (papers.full_text.values == '').sum())"
   ]
  },
  {
   "cell_type": "markdown",
   "id": "appropriate-omega",
   "metadata": {
    "papermill": {
     "duration": 0.040044,
     "end_time": "2021-06-21T12:01:23.240776",
     "exception": false,
     "start_time": "2021-06-21T12:01:23.200732",
     "status": "completed"
    },
    "tags": []
   },
   "source": [
    "We are now going to process the full-text step by step to:  \n",
    "(1) extract useful information; and  \n",
    "(2) remove unwanted information.\n",
    "***\n",
    "First, we are going to extract the abstract from the full-text by analyzing the various patterns that authors use in numbering and/or naming the sections following the abstract.  \n",
    "One can easily observe that there are many patterns used by the authors, but in code cell [8] we only use 5 patterns given in `abstract_intro_patterns`."
   ]
  },
  {
   "cell_type": "code",
   "execution_count": 5,
   "id": "minus-myrtle",
   "metadata": {
    "execution": {
     "iopub.execute_input": "2021-06-21T12:01:23.326799Z",
     "iopub.status.busy": "2021-06-21T12:01:23.326155Z",
     "iopub.status.idle": "2021-06-21T12:01:23.331591Z",
     "shell.execute_reply": "2021-06-21T12:01:23.332283Z"
    },
    "papermill": {
     "duration": 0.051395,
     "end_time": "2021-06-21T12:01:23.332534",
     "exception": false,
     "start_time": "2021-06-21T12:01:23.281139",
     "status": "completed"
    },
    "tags": []
   },
   "outputs": [
    {
     "name": "stdout",
     "output_type": "stream",
     "text": [
      "First 1000 characters in the full-text of the 1st paper:\n",
      "573 \n",
      "\n",
      "BIT - SERIAL NEURAL  NETWORKS \n",
      "\n",
      "Alan F.  Murray,  Anthony V . W.  Smith  and Zoe F.  Butler. \n",
      "\n",
      "Department of Electrical Engineering,  University of Edinburgh, \n",
      "\n",
      "The King's Buildings, Mayfield Road,  Edinburgh, \n",
      "\n",
      "Scotland,  EH93JL. \n",
      "\n",
      "ABSTRACT \n",
      "\n",
      "A  bit  - serial  VLSI  neural  network  is  described  from  an  initial  architecture  for  a \n",
      "synapse array through to silicon layout and board design.  The issues surrounding bit \n",
      "- serial  computation,  and  analog/digital  arithmetic  are  discussed  and  the  parallel \n",
      "development  of  a  hybrid  analog/digital  neural  network  is  outlined.  Learning  and \n",
      "recall  capabilities  are  reported  for  the  bit  - serial  network  along  with  a  projected \n",
      "specification  for  a  64  - neuron,  bit  - serial  board  operating  at 20 MHz.  This tech(cid:173)\n",
      "nique  is  extended  to  a  256  (2562  synapses)  network  with  an  update  time  of 3ms, \n",
      "using  a  \"paging\"  technique  to  time  - multiplex  calculations  through  the  synapse \n",
      "array. \n",
      "\n",
      "1. INTRODUCTION \n",
      "\n",
      "The functions a  synthetic neural network may aspire to mimic are the a\n"
     ]
    }
   ],
   "source": [
    "import re\n",
    "\n",
    "print('First 1000 characters in the full-text of the 1st paper:')\n",
    "text = papers.loc[0, 'full_text'][:1100]\n",
    "print(text)"
   ]
  },
  {
   "cell_type": "markdown",
   "id": "intense-opportunity",
   "metadata": {
    "papermill": {
     "duration": 0.040744,
     "end_time": "2021-06-21T12:01:23.416407",
     "exception": false,
     "start_time": "2021-06-21T12:01:23.375663",
     "status": "completed"
    },
    "tags": []
   },
   "source": [
    "**Note:** We include the `flags = re.IGNORECASE` parameter because the authors vary in their usage of the capitalization of the text (i.e., some use Abstract, some use ABSTRACT), and this flag ignores all such cases while searching for a match."
   ]
  },
  {
   "cell_type": "code",
   "execution_count": 6,
   "id": "rational-logging",
   "metadata": {
    "execution": {
     "iopub.execute_input": "2021-06-21T12:01:23.501030Z",
     "iopub.status.busy": "2021-06-21T12:01:23.500344Z",
     "iopub.status.idle": "2021-06-21T12:01:23.506411Z",
     "shell.execute_reply": "2021-06-21T12:01:23.506950Z"
    },
    "papermill": {
     "duration": 0.050023,
     "end_time": "2021-06-21T12:01:23.507123",
     "exception": false,
     "start_time": "2021-06-21T12:01:23.457100",
     "status": "completed"
    },
    "tags": []
   },
   "outputs": [
    {
     "name": "stdout",
     "output_type": "stream",
     "text": [
      "TEXT BETWEEN ABSTRACT AND INFORMATION in the 1st paper:\n"
     ]
    },
    {
     "data": {
      "text/plain": [
       "[' \\n\\nA  bit  - serial  VLSI  neural  network  is  described  from  an  initial  architecture  for  a \\nsynapse array through to silicon layout and board design.  The issues surrounding bit \\n- serial  computation,  and  analog/digital  arithmetic  are  discussed  and  the  parallel \\ndevelopment  of  a  hybrid  analog/digital  neural  network  is  outlined.  Learning  and \\nrecall  capabilities  are  reported  for  the  bit  - serial  network  along  with  a  projected \\nspecification  for  a  64  - neuron,  bit  - serial  board  operating  at 20 MHz.  This tech(cid:173)\\nnique  is  extended  to  a  256  (2562  synapses)  network  with  an  update  time  of 3ms, \\nusing  a  \"paging\"  technique  to  time  - multiplex  calculations  through  the  synapse \\narray. \\n\\n']"
      ]
     },
     "execution_count": 6,
     "metadata": {},
     "output_type": "execute_result"
    }
   ],
   "source": [
    "print('TEXT BETWEEN ABSTRACT AND INFORMATION in the 1st paper:')\n",
    "abstract_intro = '(?s)ABSTRACT(.*?)1. INTRODUCTION'\n",
    "re.findall(abstract_intro, text, flags = re.IGNORECASE)"
   ]
  },
  {
   "cell_type": "code",
   "execution_count": 7,
   "id": "iraqi-sender",
   "metadata": {
    "execution": {
     "iopub.execute_input": "2021-06-21T12:01:23.593538Z",
     "iopub.status.busy": "2021-06-21T12:01:23.592883Z",
     "iopub.status.idle": "2021-06-21T12:01:23.599296Z",
     "shell.execute_reply": "2021-06-21T12:01:23.599822Z"
    },
    "papermill": {
     "duration": 0.051443,
     "end_time": "2021-06-21T12:01:23.600005",
     "exception": false,
     "start_time": "2021-06-21T12:01:23.548562",
     "status": "completed"
    },
    "tags": []
   },
   "outputs": [
    {
     "data": {
      "text/plain": [
       "' \\n\\nThe  Hopfield  neural  network.  model  for  associative  memory  is  generalized.  The  generalization \\n\\nreplaces  two  state  neurons by neurons taking a  richer set of values.  Two  classes  of neuron  input output \\n\\nrelations are developed guaranteeing convergence to stable states.  The first is a class of \"continuous\" rela-\\n\\ntions and the second is a class of allowed quantization rules for the neurons.  The information capacity for \\n\\nnetworks from  the second class is fOWld  to be of order N 3 bits for a network with N  neurons. \\n\\nA generalization of the sum of outer products learning rule is developed and investigated as well. \\n\\n© American Institute of Physics 1988 \\n\\n\\x0c279 \\n\\n'"
      ]
     },
     "execution_count": 7,
     "metadata": {},
     "output_type": "execute_result"
    }
   ],
   "source": [
    "text2 = papers.loc[2, 'full_text'][:2000]\n",
    "\n",
    "abstract_intro = '(?s)ABSTRACT(.*?)I. INTRODUCTION'\n",
    "liste = re.findall(abstract_intro, text2, flags = re.IGNORECASE)\n",
    "liste[0]"
   ]
  },
  {
   "cell_type": "markdown",
   "id": "sound-vitamin",
   "metadata": {
    "papermill": {
     "duration": 0.041536,
     "end_time": "2021-06-21T12:01:23.683485",
     "exception": false,
     "start_time": "2021-06-21T12:01:23.641949",
     "status": "completed"
    },
    "tags": []
   },
   "source": [
    "### 1.1. Extract `abstract`"
   ]
  },
  {
   "cell_type": "code",
   "execution_count": 8,
   "id": "generous-repeat",
   "metadata": {
    "execution": {
     "iopub.execute_input": "2021-06-21T12:01:23.770897Z",
     "iopub.status.busy": "2021-06-21T12:01:23.770202Z",
     "iopub.status.idle": "2021-06-21T12:02:29.360244Z",
     "shell.execute_reply": "2021-06-21T12:02:29.360747Z"
    },
    "papermill": {
     "duration": 65.635117,
     "end_time": "2021-06-21T12:02:29.360951",
     "exception": false,
     "start_time": "2021-06-21T12:01:23.725834",
     "status": "completed"
    },
    "tags": []
   },
   "outputs": [
    {
     "data": {
      "text/html": [
       "<div>\n",
       "<style scoped>\n",
       "    .dataframe tbody tr th:only-of-type {\n",
       "        vertical-align: middle;\n",
       "    }\n",
       "\n",
       "    .dataframe tbody tr th {\n",
       "        vertical-align: top;\n",
       "    }\n",
       "\n",
       "    .dataframe thead th {\n",
       "        text-align: right;\n",
       "    }\n",
       "</style>\n",
       "<table border=\"1\" class=\"dataframe\">\n",
       "  <thead>\n",
       "    <tr style=\"text-align: right;\">\n",
       "      <th></th>\n",
       "      <th>full_text</th>\n",
       "    </tr>\n",
       "  </thead>\n",
       "  <tbody>\n",
       "    <tr>\n",
       "      <th>0</th>\n",
       "      <td>\\n\\nA  bit  - serial  VLSI  neural  network  is  described  from ...</td>\n",
       "    </tr>\n",
       "    <tr>\n",
       "      <th>1</th>\n",
       "      <td>\\n\\nHow  does  the  connectivity  of a  neural  network  (number ...</td>\n",
       "    </tr>\n",
       "    <tr>\n",
       "      <th>2</th>\n",
       "      <td>\\n\\nThe  Hopfield  neural  network.  model  for  associative  mem...</td>\n",
       "    </tr>\n",
       "    <tr>\n",
       "      <th>3</th>\n",
       "      <td>: \\n\\nThere is  presently great interest in the abilities of neura...</td>\n",
       "    </tr>\n",
       "    <tr>\n",
       "      <th>4</th>\n",
       "      <td>\\n\\nThe  aim  of  this  paper  is  to  explore  the  spatial  org...</td>\n",
       "    </tr>\n",
       "  </tbody>\n",
       "</table>\n",
       "</div>"
      ],
      "text/plain": [
       "                                                               full_text\n",
       "0   \\n\\nA  bit  - serial  VLSI  neural  network  is  described  from ...\n",
       "1   \\n\\nHow  does  the  connectivity  of a  neural  network  (number ...\n",
       "2   \\n\\nThe  Hopfield  neural  network.  model  for  associative  mem...\n",
       "3  : \\n\\nThere is  presently great interest in the abilities of neura...\n",
       "4   \\n\\nThe  aim  of  this  paper  is  to  explore  the  spatial  org..."
      ]
     },
     "execution_count": 8,
     "metadata": {},
     "output_type": "execute_result"
    }
   ],
   "source": [
    "def extract_abstract(text):\n",
    "    '''Extract abstract from the full text.'''\n",
    "    abstract_intro_patterns = ['(?s)ABSTRACT(.*?)I. INTRODUCTION', '(?s)ABSTRACT(.*?) 1. INTRODUCTION', \n",
    "                               '(?s)ABSTRACT(.*?)INTRODUCTION', '(?s)Abstract(.*?)1. Introduction', '(?s)ABSTRACT(.*?)BACKGROUND']\n",
    "    \n",
    "    for j in range(len(abstract_intro_patterns)):\n",
    "        abstract = re.findall(abstract_intro_patterns[j], text, flags = re.IGNORECASE)\n",
    "        if abstract != [] and abstract != [''] and abstract != [' ']:\n",
    "            text = re.sub(abstract_intro_patterns[j], '', text)\n",
    "            return abstract[0]\n",
    "    \n",
    "round0 = lambda x: extract_abstract(x)\n",
    "\n",
    "abstract = pd.DataFrame(papers.full_text.apply(round0))\n",
    "abstract.head()"
   ]
  },
  {
   "cell_type": "code",
   "execution_count": 9,
   "id": "cathedral-nickel",
   "metadata": {
    "execution": {
     "iopub.execute_input": "2021-06-21T12:02:29.461032Z",
     "iopub.status.busy": "2021-06-21T12:02:29.453414Z",
     "iopub.status.idle": "2021-06-21T12:02:29.465336Z",
     "shell.execute_reply": "2021-06-21T12:02:29.464805Z"
    },
    "papermill": {
     "duration": 0.062426,
     "end_time": "2021-06-21T12:02:29.465479",
     "exception": false,
     "start_time": "2021-06-21T12:02:29.403053",
     "status": "completed"
    },
    "tags": []
   },
   "outputs": [
    {
     "data": {
      "text/html": [
       "<div>\n",
       "<style scoped>\n",
       "    .dataframe tbody tr th:only-of-type {\n",
       "        vertical-align: middle;\n",
       "    }\n",
       "\n",
       "    .dataframe tbody tr th {\n",
       "        vertical-align: top;\n",
       "    }\n",
       "\n",
       "    .dataframe thead th {\n",
       "        text-align: right;\n",
       "    }\n",
       "</style>\n",
       "<table border=\"1\" class=\"dataframe\">\n",
       "  <thead>\n",
       "    <tr style=\"text-align: right;\">\n",
       "      <th></th>\n",
       "      <th>abstract</th>\n",
       "    </tr>\n",
       "  </thead>\n",
       "  <tbody>\n",
       "    <tr>\n",
       "      <th>0</th>\n",
       "      <td>\\n\\nA  bit  - serial  VLSI  neural  network  is  described  from ...</td>\n",
       "    </tr>\n",
       "    <tr>\n",
       "      <th>1</th>\n",
       "      <td>\\n\\nHow  does  the  connectivity  of a  neural  network  (number ...</td>\n",
       "    </tr>\n",
       "    <tr>\n",
       "      <th>2</th>\n",
       "      <td>\\n\\nThe  Hopfield  neural  network.  model  for  associative  mem...</td>\n",
       "    </tr>\n",
       "    <tr>\n",
       "      <th>3</th>\n",
       "      <td>: \\n\\nThere is  presently great interest in the abilities of neura...</td>\n",
       "    </tr>\n",
       "    <tr>\n",
       "      <th>4</th>\n",
       "      <td>\\n\\nThe  aim  of  this  paper  is  to  explore  the  spatial  org...</td>\n",
       "    </tr>\n",
       "  </tbody>\n",
       "</table>\n",
       "</div>"
      ],
      "text/plain": [
       "                                                                abstract\n",
       "0   \\n\\nA  bit  - serial  VLSI  neural  network  is  described  from ...\n",
       "1   \\n\\nHow  does  the  connectivity  of a  neural  network  (number ...\n",
       "2   \\n\\nThe  Hopfield  neural  network.  model  for  associative  mem...\n",
       "3  : \\n\\nThere is  presently great interest in the abilities of neura...\n",
       "4   \\n\\nThe  aim  of  this  paper  is  to  explore  the  spatial  org..."
      ]
     },
     "execution_count": 9,
     "metadata": {},
     "output_type": "execute_result"
    }
   ],
   "source": [
    "abstract.rename(columns = {'full_text': 'abstract'}, inplace = True)\n",
    "abstract.abstract = abstract.abstract.fillna('').apply(str)\n",
    "abstract.head()"
   ]
  },
  {
   "cell_type": "code",
   "execution_count": 10,
   "id": "blind-horror",
   "metadata": {
    "execution": {
     "iopub.execute_input": "2021-06-21T12:02:29.563677Z",
     "iopub.status.busy": "2021-06-21T12:02:29.562980Z",
     "iopub.status.idle": "2021-06-21T12:02:29.576157Z",
     "shell.execute_reply": "2021-06-21T12:02:29.575627Z"
    },
    "papermill": {
     "duration": 0.067234,
     "end_time": "2021-06-21T12:02:29.576298",
     "exception": false,
     "start_time": "2021-06-21T12:02:29.509064",
     "status": "completed"
    },
    "tags": []
   },
   "outputs": [
    {
     "data": {
      "text/html": [
       "<div>\n",
       "<style scoped>\n",
       "    .dataframe tbody tr th:only-of-type {\n",
       "        vertical-align: middle;\n",
       "    }\n",
       "\n",
       "    .dataframe tbody tr th {\n",
       "        vertical-align: top;\n",
       "    }\n",
       "\n",
       "    .dataframe thead th {\n",
       "        text-align: right;\n",
       "    }\n",
       "</style>\n",
       "<table border=\"1\" class=\"dataframe\">\n",
       "  <thead>\n",
       "    <tr style=\"text-align: right;\">\n",
       "      <th></th>\n",
       "      <th>source_id</th>\n",
       "      <th>year</th>\n",
       "      <th>title</th>\n",
       "      <th>full_text</th>\n",
       "      <th>abstract</th>\n",
       "    </tr>\n",
       "  </thead>\n",
       "  <tbody>\n",
       "    <tr>\n",
       "      <th>0</th>\n",
       "      <td>27</td>\n",
       "      <td>1987</td>\n",
       "      <td>Bit-Serial Neural Networks</td>\n",
       "      <td>573 \\n\\nBIT - SERIAL NEURAL  NETWORKS \\n\\nAlan F.  Murray,  Anthon...</td>\n",
       "      <td>\\n\\nA  bit  - serial  VLSI  neural  network  is  described  from ...</td>\n",
       "    </tr>\n",
       "    <tr>\n",
       "      <th>1</th>\n",
       "      <td>63</td>\n",
       "      <td>1987</td>\n",
       "      <td>Connectivity Versus Entropy</td>\n",
       "      <td>1 \\n\\nCONNECTIVITY VERSUS ENTROPY \\n\\nYaser  S.  Abu-Mostafa \\n\\nC...</td>\n",
       "      <td>\\n\\nHow  does  the  connectivity  of a  neural  network  (number ...</td>\n",
       "    </tr>\n",
       "    <tr>\n",
       "      <th>2</th>\n",
       "      <td>60</td>\n",
       "      <td>1987</td>\n",
       "      <td>The Hopfield Model with Multi-Level Neurons</td>\n",
       "      <td>278 \\n\\nTHE HOPFIELD MODEL WITH MUL TI-LEVEL NEURONS \\n\\nMichael F...</td>\n",
       "      <td>\\n\\nThe  Hopfield  neural  network.  model  for  associative  mem...</td>\n",
       "    </tr>\n",
       "    <tr>\n",
       "      <th>3</th>\n",
       "      <td>59</td>\n",
       "      <td>1987</td>\n",
       "      <td>How Neural Nets Work</td>\n",
       "      <td>442 \\n\\nAlan  Lapedes \\nRobert  Farber \\n\\nTheoretical Division \\n...</td>\n",
       "      <td>: \\n\\nThere is  presently great interest in the abilities of neura...</td>\n",
       "    </tr>\n",
       "    <tr>\n",
       "      <th>4</th>\n",
       "      <td>69</td>\n",
       "      <td>1987</td>\n",
       "      <td>Spatial Organization of Neural Networks: A Probabilistic Modeling ...</td>\n",
       "      <td>740 \\n\\nSPATIAL  ORGANIZATION  OF  NEURAL  NEn~ORKS: \\n\\nA PROBABI...</td>\n",
       "      <td>\\n\\nThe  aim  of  this  paper  is  to  explore  the  spatial  org...</td>\n",
       "    </tr>\n",
       "  </tbody>\n",
       "</table>\n",
       "</div>"
      ],
      "text/plain": [
       "   source_id  year  \\\n",
       "0         27  1987   \n",
       "1         63  1987   \n",
       "2         60  1987   \n",
       "3         59  1987   \n",
       "4         69  1987   \n",
       "\n",
       "                                                                   title  \\\n",
       "0                                             Bit-Serial Neural Networks   \n",
       "1                                            Connectivity Versus Entropy   \n",
       "2                            The Hopfield Model with Multi-Level Neurons   \n",
       "3                                                   How Neural Nets Work   \n",
       "4  Spatial Organization of Neural Networks: A Probabilistic Modeling ...   \n",
       "\n",
       "                                                               full_text  \\\n",
       "0  573 \\n\\nBIT - SERIAL NEURAL  NETWORKS \\n\\nAlan F.  Murray,  Anthon...   \n",
       "1  1 \\n\\nCONNECTIVITY VERSUS ENTROPY \\n\\nYaser  S.  Abu-Mostafa \\n\\nC...   \n",
       "2  278 \\n\\nTHE HOPFIELD MODEL WITH MUL TI-LEVEL NEURONS \\n\\nMichael F...   \n",
       "3  442 \\n\\nAlan  Lapedes \\nRobert  Farber \\n\\nTheoretical Division \\n...   \n",
       "4  740 \\n\\nSPATIAL  ORGANIZATION  OF  NEURAL  NEn~ORKS: \\n\\nA PROBABI...   \n",
       "\n",
       "                                                                abstract  \n",
       "0   \\n\\nA  bit  - serial  VLSI  neural  network  is  described  from ...  \n",
       "1   \\n\\nHow  does  the  connectivity  of a  neural  network  (number ...  \n",
       "2   \\n\\nThe  Hopfield  neural  network.  model  for  associative  mem...  \n",
       "3  : \\n\\nThere is  presently great interest in the abilities of neura...  \n",
       "4   \\n\\nThe  aim  of  this  paper  is  to  explore  the  spatial  org...  "
      ]
     },
     "execution_count": 10,
     "metadata": {},
     "output_type": "execute_result"
    }
   ],
   "source": [
    "papers.drop(['abstract'], axis = 1, inplace = True)\n",
    "papers_clean = pd.concat([papers, abstract], axis = 1)\n",
    "papers_clean.head()"
   ]
  },
  {
   "cell_type": "markdown",
   "id": "received-buyer",
   "metadata": {
    "papermill": {
     "duration": 0.043248,
     "end_time": "2021-06-21T12:02:29.663284",
     "exception": false,
     "start_time": "2021-06-21T12:02:29.620036",
     "status": "completed"
    },
    "tags": []
   },
   "source": [
    "Secondly, we are going to remove the information after the acknowledgments and/or reference sections. Some reasons for doing so are that:  \n",
    "(1) they are not actually a part of the full text;  \n",
    "(2) they must not have an undue influence on our text analysis;  \n",
    "(3) frankly, I don't see much gain in saving that information in a new column for checking, maybe, which paper is referenced by which other paper."
   ]
  },
  {
   "cell_type": "code",
   "execution_count": 11,
   "id": "therapeutic-young",
   "metadata": {
    "execution": {
     "iopub.execute_input": "2021-06-21T12:02:29.757564Z",
     "iopub.status.busy": "2021-06-21T12:02:29.756563Z",
     "iopub.status.idle": "2021-06-21T12:02:29.764368Z",
     "shell.execute_reply": "2021-06-21T12:02:29.764837Z"
    },
    "papermill": {
     "duration": 0.057872,
     "end_time": "2021-06-21T12:02:29.765040",
     "exception": false,
     "start_time": "2021-06-21T12:02:29.707168",
     "status": "completed"
    },
    "tags": []
   },
   "outputs": [
    {
     "data": {
      "text/plain": [
       "'ome  point vo.  we  need  to  show  that  there  exists  a \\nneighborhood  of Vo  in  which  there  exist  solution  trajectories  to  Eq.  (1).  The  necessary  existence \\ntheorems  and  transformations  of Eq.  (1)  needed  in  order  to  apply  the  theorems  can  be  found  in \\nmany  texts  on  ordinary  differential equations;  e.g.  Guckenheimer and Holmes  11.  Here, it  is mainly \\nimportant  to  state  that  the  theorems  require  that  functions  ,£c(1),  functions  g are  differentiable, \\nand initial  conditions  are  specified for all  derivatives of lower order than M. \\n\\n\\x0c484 \\n\\nACKNOWLEDGEMENTS \\n\\nI  would  like  to  thank  Dr.  Michael  Raugh  and  Dr.  Pentti  Kanerva  for  constructive  criticism \\nand  support.  I  would  like  to  thank  Bill  Baird  and  Dr.  James  Keeler  for  reviewing  this  work.  I \\nwould  like  to  thank  Dr.  Derek  Fender,  Dr.  John  Hopfield,  and  Dr.  Stanley  Klein  for  giving  me \\nopportunities that  fostered  this  conglomeration of ideas. \\n\\n[1]  Ackley  D.H.,  \"Stochastic  iterated  genetic  bill  climbing\",  PhD.  dissertation,  Carnegie  Mellon \\n\\nREFERENCES \\n\\nU.,1987. \\n\\n[2]  Bawn  E.,  Neural  Networks  for  Computing,  ed.  Denker  1.S.  (AlP  Confrnc.  Proc.  151,  ed. \\n\\nLerner R.G.),  p53-58,  1986. \\n\\n[3]  Brody D.A., IEEE Trans. vBME-32,  n2, pl06-110,  1968. \\n[4]  Brody D.A., Terry  F.H.,  !deker RE., IEEE Trans.  vBME-20, p141-143,  1973. \\n[5]  Cohen M.A., Grossberg S.,  IEEE Trans.  vSMC-13, p815-826,  1983. \\n[6]  Cuffin B.N., IEEE Trans.  vBME-33, n9, p854-861.  1986. \\n[7]  Darcey T.M., AIr J.P., Fender D.H., Prog.  Brain Res.,  v54,  pI28-134,  1980. \\n[8] \\n[9]  Gevins A.S.,  Morgan N.H.,  IEEE Trans.,  vBME-33,  n12, pl054-1068,  1986. \\n[10]  Goles  E.,  Vichniac  G.Y.,  Neural  Networks  for  Computing,  ed.  Denker  J.S.  (AlP  Confrnc. \\n\\nFreeman  W J., \"Mass Action in  the  Nervous System\",  Academic Press, Inc.,  1975. \\n\\nProc.  151,  ed.  Lerner R.G.),  p165-181,  1986. \\n\\n[11]  Guckenheimer  J.,  Holmes  P.,  \"Nonlinear  Oscillations,  Dynamical  Systems,  and  Bifurcations \\n\\nof Vector Fields\", Springer Verlag,  1983. \\n\\n[12]  Hopfield J.I.,  Proc.  Nat!.  Acad.  Sci.,  v81,  p3088-3092,  1984. \\n[13]  Hopfield 1.1.,  Tank D.W.,  Bio.  Cybrn., v52, p141-152,  1985. \\n[14]  Hopfield 1.J., Tank D.W.,  Science,  v233,  n4764,  p625-633,  1986. \\n[15]  Horowitz  P., Hill  W.,  \"The  art of electronics\",  Cambridge  U.  Press,  1983. \\n[16]  Hosek RS., Sances A.,  Jodat  RW., Larson S.I.,  IEEE Trans.,  vBME-25,  nS, p405-413,  1978. \\n[171  Hutchinson  J.M.,  Koch  C.,  Neural  Networks  for  Computing,  ed.  Denker  J.S.  (AlP  Confrnc. \\n\\nProc.  151,  ed.  Lerner RG.), p235-240,  1986. \\n\\n[18]  Jeffery W.,  Rosner R, Astrophys.  I., v310, p473-481,  1986. \\n[19]  Lapedes  A.,  Farber R.,  Neural  Networks  for  Computing,  ed.  Denker 1.S.  (AlP Confrnc.  Proc. \\n\\nlSI, ed.  Lerner RG.), p283-298,  1986. \\n\\n[20]  Leong  H.M.F.,  \\'\\'Frequency  dependence  of electromagnetic  fields:  models  appropriate  for  the \\n\\nbrain\",  PhD.  dissertation,  California Institute  of Technology,  1986. \\n\\n[21]  Platt  I.C.,  Hopfield J.J.,  Neural  Networks  for  Computing,  ed.  Denker I.S.  (AlP Confrnc.  Proc. \\n\\n151, ed.  Lerner RG.), p364-369,  1986. \\n\\n[22]  Press  W.H.,  Flannery  B.P.,  Teukolsky  S.A.,  Vetterling  W.T.,  \"Numerical  Recipes\",  Cam(cid:173)\\n\\nbridge  U.  Press,  1986. \\n\\n[23]  Takeda M.,  Goodman J.W.,  Applied Optics, v25. n18, p3033-3046,  1986. \\n[24]  Tank  D.W.,  Hopfield  I.J.,  \"Neural  computation  by  concentrating  infornation  in  time\",  pre(cid:173)\\n\\nprint,  1987. \\n\\n\\x0c'"
      ]
     },
     "metadata": {},
     "output_type": "display_data"
    },
    {
     "name": "stdout",
     "output_type": "stream",
     "text": [
      "------------------------------------------------------------\n"
     ]
    },
    {
     "data": {
      "text/plain": [
       "'ome  point vo.  we  need  to  show  that  there  exists  a \\nneighborhood  of Vo  in  which  there  exist  solution  trajectories  to  Eq.  (1).  The  necessary  existence \\ntheorems  and  transformations  of Eq.  (1)  needed  in  order  to  apply  the  theorems  can  be  found  in \\nmany  texts  on  ordinary  differential equations;  e.g.  Guckenheimer and Holmes  11.  Here, it  is mainly \\nimportant  to  state  that  the  theorems  require  that  functions  ,£c(1),  functions  g are  differentiable, \\nand initial  conditions  are  specified for all  derivatives of lower order than M. \\n\\n\\x0c484 \\n\\n'"
      ]
     },
     "execution_count": 11,
     "metadata": {},
     "output_type": "execute_result"
    }
   ],
   "source": [
    "text3 = papers.loc[9, 'full_text'][-3600:]\n",
    "display(text3)\n",
    "print('-'* 60)\n",
    "\n",
    "after_ref = '(?s)ACKNOWLEDGEMENT.*'\n",
    "text3 = re.sub(after_ref, \"\", text3)\n",
    "text3"
   ]
  },
  {
   "cell_type": "markdown",
   "id": "suspected-banana",
   "metadata": {
    "papermill": {
     "duration": 0.045643,
     "end_time": "2021-06-21T12:02:29.856897",
     "exception": false,
     "start_time": "2021-06-21T12:02:29.811254",
     "status": "completed"
    },
    "tags": []
   },
   "source": [
    "### 1.2. Remove unwanted information"
   ]
  },
  {
   "cell_type": "code",
   "execution_count": 12,
   "id": "expanded-stupid",
   "metadata": {
    "execution": {
     "iopub.execute_input": "2021-06-21T12:02:30.007652Z",
     "iopub.status.busy": "2021-06-21T12:02:29.983982Z",
     "iopub.status.idle": "2021-06-21T12:03:24.654717Z",
     "shell.execute_reply": "2021-06-21T12:03:24.655259Z"
    },
    "papermill": {
     "duration": 54.753679,
     "end_time": "2021-06-21T12:03:24.655433",
     "exception": false,
     "start_time": "2021-06-21T12:02:29.901754",
     "status": "completed"
    },
    "tags": []
   },
   "outputs": [
    {
     "data": {
      "text/html": [
       "<div>\n",
       "<style scoped>\n",
       "    .dataframe tbody tr th:only-of-type {\n",
       "        vertical-align: middle;\n",
       "    }\n",
       "\n",
       "    .dataframe tbody tr th {\n",
       "        vertical-align: top;\n",
       "    }\n",
       "\n",
       "    .dataframe thead th {\n",
       "        text-align: right;\n",
       "    }\n",
       "</style>\n",
       "<table border=\"1\" class=\"dataframe\">\n",
       "  <thead>\n",
       "    <tr style=\"text-align: right;\">\n",
       "      <th></th>\n",
       "      <th>full_text</th>\n",
       "    </tr>\n",
       "  </thead>\n",
       "  <tbody>\n",
       "    <tr>\n",
       "      <th>0</th>\n",
       "      <td>\\n\\nThe functions a  synthetic neural network may aspire to mimic...</td>\n",
       "    </tr>\n",
       "    <tr>\n",
       "      <th>1</th>\n",
       "      <td>\\n\\nThe most  distinguishing feature of neural networks  is  thei...</td>\n",
       "    </tr>\n",
       "    <tr>\n",
       "      <th>2</th>\n",
       "      <td>\\n\\nThe ability  to  perfonn  collective computation  in  a  dist...</td>\n",
       "    </tr>\n",
       "    <tr>\n",
       "      <th>3</th>\n",
       "      <td>442 \\n\\nAlan  Lapedes \\nRobert  Farber \\n\\nTheoretical Division \\n...</td>\n",
       "    </tr>\n",
       "    <tr>\n",
       "      <th>4</th>\n",
       "      <td>\\n\\nNeural  net  models  have  been  studied  for  many  years  i...</td>\n",
       "    </tr>\n",
       "  </tbody>\n",
       "</table>\n",
       "</div>"
      ],
      "text/plain": [
       "                                                               full_text\n",
       "0   \\n\\nThe functions a  synthetic neural network may aspire to mimic...\n",
       "1   \\n\\nThe most  distinguishing feature of neural networks  is  thei...\n",
       "2   \\n\\nThe ability  to  perfonn  collective computation  in  a  dist...\n",
       "3  442 \\n\\nAlan  Lapedes \\nRobert  Farber \\n\\nTheoretical Division \\n...\n",
       "4   \\n\\nNeural  net  models  have  been  studied  for  many  years  i..."
      ]
     },
     "execution_count": 12,
     "metadata": {},
     "output_type": "execute_result"
    }
   ],
   "source": [
    "def del_unwanted_text(text):\n",
    "    '''Delete:\n",
    "    (1) all information before the Introduction section;\n",
    "    (2) all information after the Acknowledg(e)ment(s) section; (or)\n",
    "    (2') all information after the Reference(s) section \n",
    "    in the full text.'''\n",
    "    before_intro_patterns = ['(?s)^(.*?)I. INTRODUCTION', '(?s)^(.*?)1. INTRODUCTION', \n",
    "                             '(?s)^(.*?)INTRODUCTION', '(?s)^(.*?)1. Introduction']\n",
    "    \n",
    "    # Some papers have acknowledgments and references; some have only references\n",
    "    remove_after_patterns = ['(?s)ACKNOWLEDGMENT.*', '(?s)ACKNOWLEDGEMENT.*', '(?s)REFERENCE.*']\n",
    "    \n",
    "    for j in range(len(before_intro_patterns)):\n",
    "        text = re.sub(before_intro_patterns[j], '', text)\n",
    "    \n",
    "    for j in range(len(remove_after_patterns)):\n",
    "        text = re.sub(remove_after_patterns[j], '', text)\n",
    "    return text\n",
    "    \n",
    "round1 = lambda x: del_unwanted_text(x)\n",
    "\n",
    "clean_text = pd.DataFrame(papers_clean.full_text.apply(round1))\n",
    "clean_text.head()"
   ]
  },
  {
   "cell_type": "code",
   "execution_count": 13,
   "id": "unknown-picnic",
   "metadata": {
    "execution": {
     "iopub.execute_input": "2021-06-21T12:03:24.753003Z",
     "iopub.status.busy": "2021-06-21T12:03:24.752291Z",
     "iopub.status.idle": "2021-06-21T12:03:24.767665Z",
     "shell.execute_reply": "2021-06-21T12:03:24.767134Z"
    },
    "papermill": {
     "duration": 0.066964,
     "end_time": "2021-06-21T12:03:24.767798",
     "exception": false,
     "start_time": "2021-06-21T12:03:24.700834",
     "status": "completed"
    },
    "tags": []
   },
   "outputs": [
    {
     "data": {
      "text/html": [
       "<div>\n",
       "<style scoped>\n",
       "    .dataframe tbody tr th:only-of-type {\n",
       "        vertical-align: middle;\n",
       "    }\n",
       "\n",
       "    .dataframe tbody tr th {\n",
       "        vertical-align: top;\n",
       "    }\n",
       "\n",
       "    .dataframe thead th {\n",
       "        text-align: right;\n",
       "    }\n",
       "</style>\n",
       "<table border=\"1\" class=\"dataframe\">\n",
       "  <thead>\n",
       "    <tr style=\"text-align: right;\">\n",
       "      <th></th>\n",
       "      <th>source_id</th>\n",
       "      <th>year</th>\n",
       "      <th>title</th>\n",
       "      <th>abstract</th>\n",
       "      <th>full_text</th>\n",
       "    </tr>\n",
       "  </thead>\n",
       "  <tbody>\n",
       "    <tr>\n",
       "      <th>0</th>\n",
       "      <td>27</td>\n",
       "      <td>1987</td>\n",
       "      <td>Bit-Serial Neural Networks</td>\n",
       "      <td>\\n\\nA  bit  - serial  VLSI  neural  network  is  described  from ...</td>\n",
       "      <td>\\n\\nThe functions a  synthetic neural network may aspire to mimic...</td>\n",
       "    </tr>\n",
       "    <tr>\n",
       "      <th>1</th>\n",
       "      <td>63</td>\n",
       "      <td>1987</td>\n",
       "      <td>Connectivity Versus Entropy</td>\n",
       "      <td>\\n\\nHow  does  the  connectivity  of a  neural  network  (number ...</td>\n",
       "      <td>\\n\\nThe most  distinguishing feature of neural networks  is  thei...</td>\n",
       "    </tr>\n",
       "    <tr>\n",
       "      <th>2</th>\n",
       "      <td>60</td>\n",
       "      <td>1987</td>\n",
       "      <td>The Hopfield Model with Multi-Level Neurons</td>\n",
       "      <td>\\n\\nThe  Hopfield  neural  network.  model  for  associative  mem...</td>\n",
       "      <td>\\n\\nThe ability  to  perfonn  collective computation  in  a  dist...</td>\n",
       "    </tr>\n",
       "    <tr>\n",
       "      <th>3</th>\n",
       "      <td>59</td>\n",
       "      <td>1987</td>\n",
       "      <td>How Neural Nets Work</td>\n",
       "      <td>: \\n\\nThere is  presently great interest in the abilities of neura...</td>\n",
       "      <td>442 \\n\\nAlan  Lapedes \\nRobert  Farber \\n\\nTheoretical Division \\n...</td>\n",
       "    </tr>\n",
       "    <tr>\n",
       "      <th>4</th>\n",
       "      <td>69</td>\n",
       "      <td>1987</td>\n",
       "      <td>Spatial Organization of Neural Networks: A Probabilistic Modeling ...</td>\n",
       "      <td>\\n\\nThe  aim  of  this  paper  is  to  explore  the  spatial  org...</td>\n",
       "      <td>\\n\\nNeural  net  models  have  been  studied  for  many  years  i...</td>\n",
       "    </tr>\n",
       "  </tbody>\n",
       "</table>\n",
       "</div>"
      ],
      "text/plain": [
       "   source_id  year  \\\n",
       "0         27  1987   \n",
       "1         63  1987   \n",
       "2         60  1987   \n",
       "3         59  1987   \n",
       "4         69  1987   \n",
       "\n",
       "                                                                   title  \\\n",
       "0                                             Bit-Serial Neural Networks   \n",
       "1                                            Connectivity Versus Entropy   \n",
       "2                            The Hopfield Model with Multi-Level Neurons   \n",
       "3                                                   How Neural Nets Work   \n",
       "4  Spatial Organization of Neural Networks: A Probabilistic Modeling ...   \n",
       "\n",
       "                                                                abstract  \\\n",
       "0   \\n\\nA  bit  - serial  VLSI  neural  network  is  described  from ...   \n",
       "1   \\n\\nHow  does  the  connectivity  of a  neural  network  (number ...   \n",
       "2   \\n\\nThe  Hopfield  neural  network.  model  for  associative  mem...   \n",
       "3  : \\n\\nThere is  presently great interest in the abilities of neura...   \n",
       "4   \\n\\nThe  aim  of  this  paper  is  to  explore  the  spatial  org...   \n",
       "\n",
       "                                                               full_text  \n",
       "0   \\n\\nThe functions a  synthetic neural network may aspire to mimic...  \n",
       "1   \\n\\nThe most  distinguishing feature of neural networks  is  thei...  \n",
       "2   \\n\\nThe ability  to  perfonn  collective computation  in  a  dist...  \n",
       "3  442 \\n\\nAlan  Lapedes \\nRobert  Farber \\n\\nTheoretical Division \\n...  \n",
       "4   \\n\\nNeural  net  models  have  been  studied  for  many  years  i...  "
      ]
     },
     "execution_count": 13,
     "metadata": {},
     "output_type": "execute_result"
    }
   ],
   "source": [
    "papers_clean.drop(['full_text'], axis = 1, inplace = True)\n",
    "papers_clean2 = pd.concat([papers_clean, clean_text], axis = 1)\n",
    "papers_clean2.head()"
   ]
  },
  {
   "cell_type": "code",
   "execution_count": 14,
   "id": "handy-exemption",
   "metadata": {
    "execution": {
     "iopub.execute_input": "2021-06-21T12:03:24.870014Z",
     "iopub.status.busy": "2021-06-21T12:03:24.869023Z",
     "iopub.status.idle": "2021-06-21T12:03:24.873504Z",
     "shell.execute_reply": "2021-06-21T12:03:24.872643Z"
    },
    "papermill": {
     "duration": 0.05917,
     "end_time": "2021-06-21T12:03:24.873699",
     "exception": false,
     "start_time": "2021-06-21T12:03:24.814529",
     "status": "completed"
    },
    "tags": []
   },
   "outputs": [
    {
     "name": "stdout",
     "output_type": "stream",
     "text": [
      "Number of papers with no abstract: 402\n",
      "Number of papers with no full-text: 3\n"
     ]
    }
   ],
   "source": [
    "print('Number of papers with no abstract:', (papers_clean2.abstract.values == '').sum())\n",
    "print('Number of papers with no full-text:', (papers_clean2.full_text.values == '').sum())"
   ]
  },
  {
   "cell_type": "markdown",
   "id": "freelance-establishment",
   "metadata": {
    "papermill": {
     "duration": 0.04575,
     "end_time": "2021-06-21T12:03:24.968721",
     "exception": false,
     "start_time": "2021-06-21T12:03:24.922971",
     "status": "completed"
    },
    "tags": []
   },
   "source": [
    "## 1.3. Text cleaning rounds"
   ]
  },
  {
   "cell_type": "code",
   "execution_count": 15,
   "id": "fluid-leone",
   "metadata": {
    "execution": {
     "iopub.execute_input": "2021-06-21T12:03:25.083738Z",
     "iopub.status.busy": "2021-06-21T12:03:25.069824Z",
     "iopub.status.idle": "2021-06-21T12:05:00.838217Z",
     "shell.execute_reply": "2021-06-21T12:05:00.838740Z"
    },
    "papermill": {
     "duration": 95.823529,
     "end_time": "2021-06-21T12:05:00.838943",
     "exception": false,
     "start_time": "2021-06-21T12:03:25.015414",
     "status": "completed"
    },
    "tags": []
   },
   "outputs": [
    {
     "name": "stdout",
     "output_type": "stream",
     "text": [
      "Updated 1000 characters in the full-text of the 1st paper:  \n",
      "\n",
      "the functions a  synthetic neural network may aspire to mimic are the ability to con\n",
      "sider  many  solutions  simultaneously  an  ability  to  work  with  corrupted  data  and  a \n",
      "natural  fault  tolerance  this  arises  from  the  parallelism  and  distributed  knowledge \n",
      "representation  which  gives  rise  to  gentle  degradation  as  faults  appear  these func\n",
      "tions  are  attractive  to implementation  in vlsi  and  wsi  for example  the natural \n",
      "fault   tolerance  could  be  useful  in  silicon  wafers  with  imperfect  yield  where  the \n",
      "network  degradation  is  approximately  proportional  to  the  nonfunctioning  silicon \n",
      "area \n",
      "to cast  neural networks in engineering language  a  neuron is a  state machine that is \n",
      "either  on  or  off  which  in  general  assumes  intermediate  states  as  it  switches \n",
      "smoothly  between  these  extrema  the  synapses  weighting  the  signals  from  a \n",
      "transmitting neuron  such that it is more or less excitatory or inhibitory to the receiv\n",
      "in\n"
     ]
    }
   ],
   "source": [
    "import string\n",
    "\n",
    "# This is the 3rd round of preprocessing, though it is the 1st round of cleaning\n",
    "def clean_text_round2(text):\n",
    "    '''Remove words containing numbers, make text lowercase, remove text in parentheses and remove punctuation.'''\n",
    "    # The order of cleaning is important - we cannot make numbers lowercase.\n",
    "    text = re.sub('\\w*\\d\\w*', '', text)\n",
    "    text = text.lower()\n",
    "    text = re.sub('\\(.*?\\)', '', text)\n",
    "    text = re.sub('[%s]' % re.escape(string.punctuation), '', text)\n",
    "    return text\n",
    "\n",
    "round2 = lambda x: clean_text_round2(x)\n",
    "\n",
    "# Let's take a look at the updated text\n",
    "temp_text = pd.DataFrame(papers_clean2.full_text.apply(round2))\n",
    "print('Updated 1000 characters in the full-text of the 1st paper:', temp_text.loc[0, 'full_text'][:1000])"
   ]
  },
  {
   "cell_type": "code",
   "execution_count": 16,
   "id": "former-state",
   "metadata": {
    "execution": {
     "iopub.execute_input": "2021-06-21T12:05:00.989800Z",
     "iopub.status.busy": "2021-06-21T12:05:00.967937Z",
     "iopub.status.idle": "2021-06-21T12:05:09.437634Z",
     "shell.execute_reply": "2021-06-21T12:05:09.437087Z"
    },
    "papermill": {
     "duration": 8.551994,
     "end_time": "2021-06-21T12:05:09.437768",
     "exception": false,
     "start_time": "2021-06-21T12:05:00.885774",
     "status": "completed"
    },
    "tags": []
   },
   "outputs": [
    {
     "name": "stdout",
     "output_type": "stream",
     "text": [
      "Updated 1000 characters in the full-text of the 1st paper:  the functions a  synthetic neural network may aspire to mimic are the ability to consider  many  solutions  simultaneously  an  ability  to  work  with  corrupted  data  and  a natural  fault  tolerance  this  arises  from  the  parallelism  and  distributed  knowledge representation  which  gives  rise  to  gentle  degradation  as  faults  appear  these functions  are  attractive  to implementation  in vlsi  and  wsi  for example  the natural fault   tolerance  could  be  useful  in  silicon  wafers  with  imperfect  yield  where  the network  degradation  is  approximately  proportional  to  the  nonfunctioning  silicon area to cast  neural networks in engineering language  a  neuron is a  state machine that is either  on  or  off  which  in  general  assumes  intermediate  states  as  it  switches smoothly  between  these  extrema  the  synapses  weighting  the  signals  from  a transmitting neuron  such that it is more or less excitatory or inhibitory to the receiving  neuron  the\n"
     ]
    }
   ],
   "source": [
    "def clean_text_round3(text):\n",
    "    '''Get rid of some additional punctuation that was missed the first time around.'''\n",
    "    text = re.sub('[‘’“”…]', '', text)\n",
    "    text = re.sub('\\n', '', text)\n",
    "    text = re.sub('£', '', text)\n",
    "    return text\n",
    "\n",
    "round3 = lambda x: clean_text_round3(x)\n",
    "\n",
    "# Let's take a look at the updated text\n",
    "tempo_text = pd.DataFrame(temp_text.full_text.apply(round3))\n",
    "print('Updated 1000 characters in the full-text of the 1st paper:', tempo_text.loc[0, 'full_text'][:1000])"
   ]
  },
  {
   "cell_type": "code",
   "execution_count": 17,
   "id": "chubby-flexibility",
   "metadata": {
    "execution": {
     "iopub.execute_input": "2021-06-21T12:05:09.541096Z",
     "iopub.status.busy": "2021-06-21T12:05:09.540352Z",
     "iopub.status.idle": "2021-06-21T12:08:53.159107Z",
     "shell.execute_reply": "2021-06-21T12:08:53.159822Z"
    },
    "papermill": {
     "duration": 223.674437,
     "end_time": "2021-06-21T12:08:53.160082",
     "exception": false,
     "start_time": "2021-06-21T12:05:09.485645",
     "status": "completed"
    },
    "tags": []
   },
   "outputs": [
    {
     "name": "stdout",
     "output_type": "stream",
     "text": [
      "First 1000 characters in the final full-text of the 1st paper: the function a synthetic neural network may aspire to mimic are the ability to consider many solution simultaneously an ability to work with corrupted data and a natural fault tolerance this arises from the parallelism and distributed knowledge representation which give rise to gentle degradation a fault appear these function are attractive to implementation in vlsi and wsi for example the natural fault tolerance could be useful in silicon wafer with imperfect yield where the network degradation is approximately proportional to the nonfunctioning silicon area to cast neural network in engineering language a neuron is a state machine that is either on or off which in general assumes intermediate state a it switch smoothly between these extremum the synapsis weighting the signal from a transmitting neuron such that it is more or le excitatory or inhibitory to the receiving neuron the set of synaptic weight determines the stable state and represents the learned information in a system the\n"
     ]
    }
   ],
   "source": [
    "import nltk\n",
    "from nltk.stem import WordNetLemmatizer\n",
    "from nltk.tokenize import WordPunctTokenizer\n",
    "from nltk.corpus import wordnet\n",
    "\n",
    "tokenizer = WordPunctTokenizer()\n",
    "lemmatizer = WordNetLemmatizer()\n",
    "  \n",
    "def clean_text_round4(text):\n",
    "    '''Apply lemmatization to the full-texts.'''\n",
    "    tokens = tokenizer.tokenize(text)\n",
    "    text = ' '.join([lemmatizer.lemmatize(word) for word in tokens])\n",
    "    return text\n",
    "\n",
    "round4 = lambda x: clean_text_round4(x)\n",
    "\n",
    "clean_text = pd.DataFrame(tempo_text.full_text.apply(round4))\n",
    "print('First 1000 characters in the final full-text of the 1st paper:', clean_text.loc[0, 'full_text'][:1000])"
   ]
  },
  {
   "cell_type": "markdown",
   "id": "outer-frederick",
   "metadata": {
    "papermill": {
     "duration": 0.047709,
     "end_time": "2021-06-21T12:08:53.256805",
     "exception": false,
     "start_time": "2021-06-21T12:08:53.209096",
     "status": "completed"
    },
    "tags": []
   },
   "source": [
    "Let us apply the above techniques to process the `title` and the `abstract` also."
   ]
  },
  {
   "cell_type": "code",
   "execution_count": 18,
   "id": "sacred-witch",
   "metadata": {
    "execution": {
     "iopub.execute_input": "2021-06-21T12:08:53.359836Z",
     "iopub.status.busy": "2021-06-21T12:08:53.359211Z",
     "iopub.status.idle": "2021-06-21T12:08:53.880916Z",
     "shell.execute_reply": "2021-06-21T12:08:53.881392Z"
    },
    "papermill": {
     "duration": 0.576013,
     "end_time": "2021-06-21T12:08:53.881554",
     "exception": false,
     "start_time": "2021-06-21T12:08:53.305541",
     "status": "completed"
    },
    "tags": []
   },
   "outputs": [
    {
     "data": {
      "text/html": [
       "<div>\n",
       "<style scoped>\n",
       "    .dataframe tbody tr th:only-of-type {\n",
       "        vertical-align: middle;\n",
       "    }\n",
       "\n",
       "    .dataframe tbody tr th {\n",
       "        vertical-align: top;\n",
       "    }\n",
       "\n",
       "    .dataframe thead th {\n",
       "        text-align: right;\n",
       "    }\n",
       "</style>\n",
       "<table border=\"1\" class=\"dataframe\">\n",
       "  <thead>\n",
       "    <tr style=\"text-align: right;\">\n",
       "      <th></th>\n",
       "      <th>title</th>\n",
       "    </tr>\n",
       "  </thead>\n",
       "  <tbody>\n",
       "    <tr>\n",
       "      <th>0</th>\n",
       "      <td>bitserial neural networks</td>\n",
       "    </tr>\n",
       "    <tr>\n",
       "      <th>1</th>\n",
       "      <td>connectivity versus entropy</td>\n",
       "    </tr>\n",
       "    <tr>\n",
       "      <th>2</th>\n",
       "      <td>the hopfield model with multilevel neurons</td>\n",
       "    </tr>\n",
       "    <tr>\n",
       "      <th>3</th>\n",
       "      <td>how neural nets work</td>\n",
       "    </tr>\n",
       "    <tr>\n",
       "      <th>4</th>\n",
       "      <td>spatial organization of neural networks a probabilistic modeling a...</td>\n",
       "    </tr>\n",
       "  </tbody>\n",
       "</table>\n",
       "</div>"
      ],
      "text/plain": [
       "                                                                   title\n",
       "0                                              bitserial neural networks\n",
       "1                                            connectivity versus entropy\n",
       "2                             the hopfield model with multilevel neurons\n",
       "3                                                   how neural nets work\n",
       "4  spatial organization of neural networks a probabilistic modeling a..."
      ]
     },
     "execution_count": 18,
     "metadata": {},
     "output_type": "execute_result"
    }
   ],
   "source": [
    "temp_title = pd.DataFrame(papers_clean2.title.apply(round1))\n",
    "tempo_title = pd.DataFrame(temp_title.title.apply(round2))\n",
    "clean_title = pd.DataFrame(tempo_title.title.apply(round3))\n",
    "clean_title.head()"
   ]
  },
  {
   "cell_type": "code",
   "execution_count": 19,
   "id": "postal-jaguar",
   "metadata": {
    "execution": {
     "iopub.execute_input": "2021-06-21T12:08:53.982599Z",
     "iopub.status.busy": "2021-06-21T12:08:53.981982Z",
     "iopub.status.idle": "2021-06-21T12:09:00.938502Z",
     "shell.execute_reply": "2021-06-21T12:09:00.939034Z"
    },
    "papermill": {
     "duration": 7.009063,
     "end_time": "2021-06-21T12:09:00.939217",
     "exception": false,
     "start_time": "2021-06-21T12:08:53.930154",
     "status": "completed"
    },
    "tags": []
   },
   "outputs": [
    {
     "data": {
      "text/html": [
       "<div>\n",
       "<style scoped>\n",
       "    .dataframe tbody tr th:only-of-type {\n",
       "        vertical-align: middle;\n",
       "    }\n",
       "\n",
       "    .dataframe tbody tr th {\n",
       "        vertical-align: top;\n",
       "    }\n",
       "\n",
       "    .dataframe thead th {\n",
       "        text-align: right;\n",
       "    }\n",
       "</style>\n",
       "<table border=\"1\" class=\"dataframe\">\n",
       "  <thead>\n",
       "    <tr style=\"text-align: right;\">\n",
       "      <th></th>\n",
       "      <th>abstract</th>\n",
       "    </tr>\n",
       "  </thead>\n",
       "  <tbody>\n",
       "    <tr>\n",
       "      <th>9675</th>\n",
       "      <td>the success of generative modeling in continuous domains has led t...</td>\n",
       "    </tr>\n",
       "    <tr>\n",
       "      <th>9676</th>\n",
       "      <td>recent neural models for image captioning usually employ an encode...</td>\n",
       "    </tr>\n",
       "    <tr>\n",
       "      <th>9677</th>\n",
       "      <td>we consider classic clustering problems in fully dynamic data stre...</td>\n",
       "    </tr>\n",
       "    <tr>\n",
       "      <th>9678</th>\n",
       "      <td>when training complex neural networks memory usage can be an impor...</td>\n",
       "    </tr>\n",
       "    <tr>\n",
       "      <th>9679</th>\n",
       "      <td>learning nondeterministic dynamics and intrinsic factors from imag...</td>\n",
       "    </tr>\n",
       "  </tbody>\n",
       "</table>\n",
       "</div>"
      ],
      "text/plain": [
       "                                                                   abstract\n",
       "9675  the success of generative modeling in continuous domains has led t...\n",
       "9676  recent neural models for image captioning usually employ an encode...\n",
       "9677  we consider classic clustering problems in fully dynamic data stre...\n",
       "9678  when training complex neural networks memory usage can be an impor...\n",
       "9679  learning nondeterministic dynamics and intrinsic factors from imag..."
      ]
     },
     "execution_count": 19,
     "metadata": {},
     "output_type": "execute_result"
    }
   ],
   "source": [
    "temp_abstract = pd.DataFrame(papers_clean2.abstract.apply(round1))\n",
    "tempo_abstract = pd.DataFrame(temp_abstract.abstract.apply(round2))\n",
    "clean_abstract = pd.DataFrame(tempo_abstract.abstract.apply(round3))\n",
    "clean_abstract.tail()"
   ]
  },
  {
   "cell_type": "code",
   "execution_count": 20,
   "id": "cardiac-korean",
   "metadata": {
    "execution": {
     "iopub.execute_input": "2021-06-21T12:09:01.044194Z",
     "iopub.status.busy": "2021-06-21T12:09:01.043541Z",
     "iopub.status.idle": "2021-06-21T12:09:01.062435Z",
     "shell.execute_reply": "2021-06-21T12:09:01.061878Z"
    },
    "papermill": {
     "duration": 0.074122,
     "end_time": "2021-06-21T12:09:01.062575",
     "exception": false,
     "start_time": "2021-06-21T12:09:00.988453",
     "status": "completed"
    },
    "tags": []
   },
   "outputs": [
    {
     "data": {
      "text/html": [
       "<div>\n",
       "<style scoped>\n",
       "    .dataframe tbody tr th:only-of-type {\n",
       "        vertical-align: middle;\n",
       "    }\n",
       "\n",
       "    .dataframe tbody tr th {\n",
       "        vertical-align: top;\n",
       "    }\n",
       "\n",
       "    .dataframe thead th {\n",
       "        text-align: right;\n",
       "    }\n",
       "</style>\n",
       "<table border=\"1\" class=\"dataframe\">\n",
       "  <thead>\n",
       "    <tr style=\"text-align: right;\">\n",
       "      <th></th>\n",
       "      <th>source_id</th>\n",
       "      <th>year</th>\n",
       "      <th>title</th>\n",
       "      <th>abstract</th>\n",
       "      <th>full_text</th>\n",
       "    </tr>\n",
       "  </thead>\n",
       "  <tbody>\n",
       "    <tr>\n",
       "      <th>0</th>\n",
       "      <td>27</td>\n",
       "      <td>1987</td>\n",
       "      <td>bitserial neural networks</td>\n",
       "      <td>a  bit   serial  vlsi  neural  network  is  described  from  an  ...</td>\n",
       "      <td>the function a synthetic neural network may aspire to mimic are th...</td>\n",
       "    </tr>\n",
       "    <tr>\n",
       "      <th>1</th>\n",
       "      <td>63</td>\n",
       "      <td>1987</td>\n",
       "      <td>connectivity versus entropy</td>\n",
       "      <td>how  does  the  connectivity  of a  neural  network  number  of s...</td>\n",
       "      <td>the most distinguishing feature of neural network is their ability...</td>\n",
       "    </tr>\n",
       "    <tr>\n",
       "      <th>2</th>\n",
       "      <td>60</td>\n",
       "      <td>1987</td>\n",
       "      <td>the hopfield model with multilevel neurons</td>\n",
       "      <td>the  hopfield  neural  network  model  for  associative  memory  ...</td>\n",
       "      <td>the ability to perfonn collective computation in a distributed sys...</td>\n",
       "    </tr>\n",
       "    <tr>\n",
       "      <th>3</th>\n",
       "      <td>59</td>\n",
       "      <td>1987</td>\n",
       "      <td>how neural nets work</td>\n",
       "      <td>there is  presently great interest in the abilities of neural net...</td>\n",
       "      <td>alan lapedes robert farber theoretical division how neural net wor...</td>\n",
       "    </tr>\n",
       "    <tr>\n",
       "      <th>4</th>\n",
       "      <td>69</td>\n",
       "      <td>1987</td>\n",
       "      <td>spatial organization of neural networks a probabilistic modeling a...</td>\n",
       "      <td>the  aim  of  this  paper  is  to  explore  the  spatial  organiz...</td>\n",
       "      <td>neural net model have been studied for many year in an attempt to ...</td>\n",
       "    </tr>\n",
       "    <tr>\n",
       "      <th>5</th>\n",
       "      <td>6</td>\n",
       "      <td>1987</td>\n",
       "      <td>a neuralnetwork solution to the concentrator assignment problem</td>\n",
       "      <td>networks  of simple analog  processors  having  neuronlike proper...</td>\n",
       "      <td>this paper present a neuralnetwork solution to a resource allocati...</td>\n",
       "    </tr>\n",
       "    <tr>\n",
       "      <th>6</th>\n",
       "      <td>33</td>\n",
       "      <td>1987</td>\n",
       "      <td>learning by state recurrence detection</td>\n",
       "      <td></td>\n",
       "      <td>learning by st ate recurrence detecfion bruce e rosen james m good...</td>\n",
       "    </tr>\n",
       "  </tbody>\n",
       "</table>\n",
       "</div>"
      ],
      "text/plain": [
       "   source_id  year  \\\n",
       "0         27  1987   \n",
       "1         63  1987   \n",
       "2         60  1987   \n",
       "3         59  1987   \n",
       "4         69  1987   \n",
       "5          6  1987   \n",
       "6         33  1987   \n",
       "\n",
       "                                                                   title  \\\n",
       "0                                              bitserial neural networks   \n",
       "1                                            connectivity versus entropy   \n",
       "2                             the hopfield model with multilevel neurons   \n",
       "3                                                   how neural nets work   \n",
       "4  spatial organization of neural networks a probabilistic modeling a...   \n",
       "5        a neuralnetwork solution to the concentrator assignment problem   \n",
       "6                                 learning by state recurrence detection   \n",
       "\n",
       "                                                                abstract  \\\n",
       "0   a  bit   serial  vlsi  neural  network  is  described  from  an  ...   \n",
       "1   how  does  the  connectivity  of a  neural  network  number  of s...   \n",
       "2   the  hopfield  neural  network  model  for  associative  memory  ...   \n",
       "3   there is  presently great interest in the abilities of neural net...   \n",
       "4   the  aim  of  this  paper  is  to  explore  the  spatial  organiz...   \n",
       "5   networks  of simple analog  processors  having  neuronlike proper...   \n",
       "6                                                                          \n",
       "\n",
       "                                                               full_text  \n",
       "0  the function a synthetic neural network may aspire to mimic are th...  \n",
       "1  the most distinguishing feature of neural network is their ability...  \n",
       "2  the ability to perfonn collective computation in a distributed sys...  \n",
       "3  alan lapedes robert farber theoretical division how neural net wor...  \n",
       "4  neural net model have been studied for many year in an attempt to ...  \n",
       "5  this paper present a neuralnetwork solution to a resource allocati...  \n",
       "6  learning by st ate recurrence detecfion bruce e rosen james m good...  "
      ]
     },
     "execution_count": 20,
     "metadata": {},
     "output_type": "execute_result"
    }
   ],
   "source": [
    "papers_clean2.drop(['title', 'abstract', 'full_text'], axis = 1, inplace = True)\n",
    "papers_new = pd.concat([papers_clean2, clean_title, clean_abstract, clean_text], axis = 1)\n",
    "papers_new.head(7)"
   ]
  },
  {
   "cell_type": "code",
   "execution_count": 21,
   "id": "impossible-illness",
   "metadata": {
    "execution": {
     "iopub.execute_input": "2021-06-21T12:09:01.173583Z",
     "iopub.status.busy": "2021-06-21T12:09:01.172915Z",
     "iopub.status.idle": "2021-06-21T12:09:01.176744Z",
     "shell.execute_reply": "2021-06-21T12:09:01.176081Z"
    },
    "papermill": {
     "duration": 0.063102,
     "end_time": "2021-06-21T12:09:01.176900",
     "exception": false,
     "start_time": "2021-06-21T12:09:01.113798",
     "status": "completed"
    },
    "tags": []
   },
   "outputs": [
    {
     "name": "stdout",
     "output_type": "stream",
     "text": [
      "Number of papers with no abstract: 403\n",
      "Number of papers with no full-text: 10\n"
     ]
    }
   ],
   "source": [
    "# Find the number of null values:\n",
    "print('Number of papers with no abstract:', (papers_new.abstract.values == '').sum())\n",
    "print('Number of papers with no full-text:', (papers_new.full_text.values == '').sum())"
   ]
  },
  {
   "cell_type": "markdown",
   "id": "equal-magazine",
   "metadata": {
    "papermill": {
     "duration": 0.050231,
     "end_time": "2021-06-21T12:09:01.277728",
     "exception": false,
     "start_time": "2021-06-21T12:09:01.227497",
     "status": "completed"
    },
    "tags": []
   },
   "source": [
    "# 2. Exploratory data analysis"
   ]
  },
  {
   "cell_type": "markdown",
   "id": "flush-homework",
   "metadata": {
    "papermill": {
     "duration": 0.051035,
     "end_time": "2021-06-21T12:09:01.379524",
     "exception": false,
     "start_time": "2021-06-21T12:09:01.328489",
     "status": "completed"
    },
    "tags": []
   },
   "source": [
    "EDA for text data is **just as important** as it is for numerical data.   \n",
    "In the following code cells, we extract some useful information on the 3 text columns and store those to our dataframe."
   ]
  },
  {
   "cell_type": "code",
   "execution_count": 22,
   "id": "skilled-milwaukee",
   "metadata": {
    "execution": {
     "iopub.execute_input": "2021-06-21T12:09:01.492093Z",
     "iopub.status.busy": "2021-06-21T12:09:01.491363Z",
     "iopub.status.idle": "2021-06-21T12:09:01.672104Z",
     "shell.execute_reply": "2021-06-21T12:09:01.671409Z"
    },
    "papermill": {
     "duration": 0.240502,
     "end_time": "2021-06-21T12:09:01.672247",
     "exception": false,
     "start_time": "2021-06-21T12:09:01.431745",
     "status": "completed"
    },
    "tags": []
   },
   "outputs": [
    {
     "data": {
      "text/html": [
       "<div>\n",
       "<style scoped>\n",
       "    .dataframe tbody tr th:only-of-type {\n",
       "        vertical-align: middle;\n",
       "    }\n",
       "\n",
       "    .dataframe tbody tr th {\n",
       "        vertical-align: top;\n",
       "    }\n",
       "\n",
       "    .dataframe thead th {\n",
       "        text-align: right;\n",
       "    }\n",
       "</style>\n",
       "<table border=\"1\" class=\"dataframe\">\n",
       "  <thead>\n",
       "    <tr style=\"text-align: right;\">\n",
       "      <th></th>\n",
       "      <th>Words_in_title</th>\n",
       "      <th>Chars_in_title</th>\n",
       "      <th>Avg_chars_in_title</th>\n",
       "    </tr>\n",
       "  </thead>\n",
       "  <tbody>\n",
       "    <tr>\n",
       "      <th>0</th>\n",
       "      <td>3</td>\n",
       "      <td>23</td>\n",
       "      <td>7.666667</td>\n",
       "    </tr>\n",
       "    <tr>\n",
       "      <th>1</th>\n",
       "      <td>3</td>\n",
       "      <td>25</td>\n",
       "      <td>8.333333</td>\n",
       "    </tr>\n",
       "    <tr>\n",
       "      <th>2</th>\n",
       "      <td>6</td>\n",
       "      <td>37</td>\n",
       "      <td>6.166667</td>\n",
       "    </tr>\n",
       "    <tr>\n",
       "      <th>3</th>\n",
       "      <td>4</td>\n",
       "      <td>17</td>\n",
       "      <td>4.250000</td>\n",
       "    </tr>\n",
       "    <tr>\n",
       "      <th>4</th>\n",
       "      <td>9</td>\n",
       "      <td>65</td>\n",
       "      <td>7.222222</td>\n",
       "    </tr>\n",
       "  </tbody>\n",
       "</table>\n",
       "</div>"
      ],
      "text/plain": [
       "   Words_in_title  Chars_in_title  Avg_chars_in_title\n",
       "0               3              23            7.666667\n",
       "1               3              25            8.333333\n",
       "2               6              37            6.166667\n",
       "3               4              17            4.250000\n",
       "4               9              65            7.222222"
      ]
     },
     "execution_count": 22,
     "metadata": {},
     "output_type": "execute_result"
    }
   ],
   "source": [
    "from collections import Counter\n",
    "\n",
    "def get_num_words(text):\n",
    "    '''Find the number of words in a given piece of text.'''\n",
    "    list = text.split()\n",
    "    return len(list)\n",
    "\n",
    "def get_num_chars(text):\n",
    "    '''Find the number of characters in a given piece of text.'''\n",
    "    list = text.split()\n",
    "    filtered = [w for w in text if w.isalnum()]\n",
    "    counts = Counter(filtered)\n",
    "    return sum(counts.values())\n",
    "\n",
    "round4 = lambda x: get_num_words(x)\n",
    "round5 = lambda x: get_num_chars(x)\n",
    "\n",
    "# Let us get some values\n",
    "num_words_title = pd.DataFrame(papers_new.title.apply(round4))\n",
    "num_words_title.rename(columns = {'title': 'Words_in_title'}, inplace = True)\n",
    "\n",
    "num_chars_title = pd.DataFrame(papers_new.title.apply(round5))\n",
    "num_chars_title.rename(columns = {'title': 'Chars_in_title'}, inplace = True)\n",
    "\n",
    "alnum_title = pd.concat([num_words_title, num_chars_title], axis = 1)\n",
    "alnum_title['Avg_chars_in_title'] = alnum_title['Chars_in_title'] / alnum_title['Words_in_title']\n",
    "alnum_title.head()"
   ]
  },
  {
   "cell_type": "code",
   "execution_count": 23,
   "id": "legal-delicious",
   "metadata": {
    "execution": {
     "iopub.execute_input": "2021-06-21T12:09:01.793153Z",
     "iopub.status.busy": "2021-06-21T12:09:01.787951Z",
     "iopub.status.idle": "2021-06-21T12:09:38.135614Z",
     "shell.execute_reply": "2021-06-21T12:09:38.136154Z"
    },
    "papermill": {
     "duration": 36.412624,
     "end_time": "2021-06-21T12:09:38.136332",
     "exception": false,
     "start_time": "2021-06-21T12:09:01.723708",
     "status": "completed"
    },
    "tags": []
   },
   "outputs": [
    {
     "data": {
      "text/html": [
       "<div>\n",
       "<style scoped>\n",
       "    .dataframe tbody tr th:only-of-type {\n",
       "        vertical-align: middle;\n",
       "    }\n",
       "\n",
       "    .dataframe tbody tr th {\n",
       "        vertical-align: top;\n",
       "    }\n",
       "\n",
       "    .dataframe thead th {\n",
       "        text-align: right;\n",
       "    }\n",
       "</style>\n",
       "<table border=\"1\" class=\"dataframe\">\n",
       "  <thead>\n",
       "    <tr style=\"text-align: right;\">\n",
       "      <th></th>\n",
       "      <th>Words_in_text</th>\n",
       "      <th>Chars_in_text</th>\n",
       "      <th>Avg_chars_in_text</th>\n",
       "    </tr>\n",
       "  </thead>\n",
       "  <tbody>\n",
       "    <tr>\n",
       "      <th>0</th>\n",
       "      <td>3276</td>\n",
       "      <td>16564</td>\n",
       "      <td>5.056166</td>\n",
       "    </tr>\n",
       "    <tr>\n",
       "      <th>1</th>\n",
       "      <td>1221</td>\n",
       "      <td>5634</td>\n",
       "      <td>4.614251</td>\n",
       "    </tr>\n",
       "    <tr>\n",
       "      <th>2</th>\n",
       "      <td>1914</td>\n",
       "      <td>7916</td>\n",
       "      <td>4.135841</td>\n",
       "    </tr>\n",
       "    <tr>\n",
       "      <th>3</th>\n",
       "      <td>5190</td>\n",
       "      <td>24447</td>\n",
       "      <td>4.710405</td>\n",
       "    </tr>\n",
       "    <tr>\n",
       "      <th>4</th>\n",
       "      <td>2831</td>\n",
       "      <td>13934</td>\n",
       "      <td>4.921936</td>\n",
       "    </tr>\n",
       "  </tbody>\n",
       "</table>\n",
       "</div>"
      ],
      "text/plain": [
       "   Words_in_text  Chars_in_text  Avg_chars_in_text\n",
       "0           3276          16564           5.056166\n",
       "1           1221           5634           4.614251\n",
       "2           1914           7916           4.135841\n",
       "3           5190          24447           4.710405\n",
       "4           2831          13934           4.921936"
      ]
     },
     "execution_count": 23,
     "metadata": {},
     "output_type": "execute_result"
    }
   ],
   "source": [
    "# Apply the above technique to the full-texts\n",
    "num_words_text = pd.DataFrame(papers_new.full_text.apply(round4))\n",
    "num_words_text.rename(columns = {'full_text': 'Words_in_text'}, inplace = True)\n",
    "\n",
    "num_chars_text = pd.DataFrame(papers_new.full_text.apply(round5))\n",
    "num_chars_text.rename(columns = {'full_text': 'Chars_in_text'}, inplace = True)\n",
    "\n",
    "alnum_text = pd.concat([num_words_text, num_chars_text], axis = 1)\n",
    "alnum_text['Avg_chars_in_text'] = alnum_text['Chars_in_text'] / alnum_text['Words_in_text']\n",
    "alnum_text.head()"
   ]
  },
  {
   "cell_type": "code",
   "execution_count": 24,
   "id": "english-navigation",
   "metadata": {
    "execution": {
     "iopub.execute_input": "2021-06-21T12:09:38.246413Z",
     "iopub.status.busy": "2021-06-21T12:09:38.245727Z",
     "iopub.status.idle": "2021-06-21T12:09:38.265143Z",
     "shell.execute_reply": "2021-06-21T12:09:38.264492Z"
    },
    "papermill": {
     "duration": 0.077201,
     "end_time": "2021-06-21T12:09:38.265285",
     "exception": false,
     "start_time": "2021-06-21T12:09:38.188084",
     "status": "completed"
    },
    "tags": []
   },
   "outputs": [
    {
     "data": {
      "text/html": [
       "<div>\n",
       "<style scoped>\n",
       "    .dataframe tbody tr th:only-of-type {\n",
       "        vertical-align: middle;\n",
       "    }\n",
       "\n",
       "    .dataframe tbody tr th {\n",
       "        vertical-align: top;\n",
       "    }\n",
       "\n",
       "    .dataframe thead th {\n",
       "        text-align: right;\n",
       "    }\n",
       "</style>\n",
       "<table border=\"1\" class=\"dataframe\">\n",
       "  <thead>\n",
       "    <tr style=\"text-align: right;\">\n",
       "      <th></th>\n",
       "      <th>source_id</th>\n",
       "      <th>year</th>\n",
       "      <th>title</th>\n",
       "      <th>abstract</th>\n",
       "      <th>full_text</th>\n",
       "      <th>Words_in_title</th>\n",
       "      <th>Chars_in_title</th>\n",
       "      <th>Avg_chars_in_title</th>\n",
       "      <th>Words_in_text</th>\n",
       "      <th>Chars_in_text</th>\n",
       "      <th>Avg_chars_in_text</th>\n",
       "    </tr>\n",
       "  </thead>\n",
       "  <tbody>\n",
       "    <tr>\n",
       "      <th>0</th>\n",
       "      <td>27</td>\n",
       "      <td>1987</td>\n",
       "      <td>bitserial neural networks</td>\n",
       "      <td>a  bit   serial  vlsi  neural  network  is  described  from  an  ...</td>\n",
       "      <td>the function a synthetic neural network may aspire to mimic are th...</td>\n",
       "      <td>3</td>\n",
       "      <td>23</td>\n",
       "      <td>7.666667</td>\n",
       "      <td>3276</td>\n",
       "      <td>16564</td>\n",
       "      <td>5.056166</td>\n",
       "    </tr>\n",
       "    <tr>\n",
       "      <th>1</th>\n",
       "      <td>63</td>\n",
       "      <td>1987</td>\n",
       "      <td>connectivity versus entropy</td>\n",
       "      <td>how  does  the  connectivity  of a  neural  network  number  of s...</td>\n",
       "      <td>the most distinguishing feature of neural network is their ability...</td>\n",
       "      <td>3</td>\n",
       "      <td>25</td>\n",
       "      <td>8.333333</td>\n",
       "      <td>1221</td>\n",
       "      <td>5634</td>\n",
       "      <td>4.614251</td>\n",
       "    </tr>\n",
       "    <tr>\n",
       "      <th>2</th>\n",
       "      <td>60</td>\n",
       "      <td>1987</td>\n",
       "      <td>the hopfield model with multilevel neurons</td>\n",
       "      <td>the  hopfield  neural  network  model  for  associative  memory  ...</td>\n",
       "      <td>the ability to perfonn collective computation in a distributed sys...</td>\n",
       "      <td>6</td>\n",
       "      <td>37</td>\n",
       "      <td>6.166667</td>\n",
       "      <td>1914</td>\n",
       "      <td>7916</td>\n",
       "      <td>4.135841</td>\n",
       "    </tr>\n",
       "    <tr>\n",
       "      <th>3</th>\n",
       "      <td>59</td>\n",
       "      <td>1987</td>\n",
       "      <td>how neural nets work</td>\n",
       "      <td>there is  presently great interest in the abilities of neural net...</td>\n",
       "      <td>alan lapedes robert farber theoretical division how neural net wor...</td>\n",
       "      <td>4</td>\n",
       "      <td>17</td>\n",
       "      <td>4.250000</td>\n",
       "      <td>5190</td>\n",
       "      <td>24447</td>\n",
       "      <td>4.710405</td>\n",
       "    </tr>\n",
       "    <tr>\n",
       "      <th>4</th>\n",
       "      <td>69</td>\n",
       "      <td>1987</td>\n",
       "      <td>spatial organization of neural networks a probabilistic modeling a...</td>\n",
       "      <td>the  aim  of  this  paper  is  to  explore  the  spatial  organiz...</td>\n",
       "      <td>neural net model have been studied for many year in an attempt to ...</td>\n",
       "      <td>9</td>\n",
       "      <td>65</td>\n",
       "      <td>7.222222</td>\n",
       "      <td>2831</td>\n",
       "      <td>13934</td>\n",
       "      <td>4.921936</td>\n",
       "    </tr>\n",
       "  </tbody>\n",
       "</table>\n",
       "</div>"
      ],
      "text/plain": [
       "   source_id  year  \\\n",
       "0         27  1987   \n",
       "1         63  1987   \n",
       "2         60  1987   \n",
       "3         59  1987   \n",
       "4         69  1987   \n",
       "\n",
       "                                                                   title  \\\n",
       "0                                              bitserial neural networks   \n",
       "1                                            connectivity versus entropy   \n",
       "2                             the hopfield model with multilevel neurons   \n",
       "3                                                   how neural nets work   \n",
       "4  spatial organization of neural networks a probabilistic modeling a...   \n",
       "\n",
       "                                                                abstract  \\\n",
       "0   a  bit   serial  vlsi  neural  network  is  described  from  an  ...   \n",
       "1   how  does  the  connectivity  of a  neural  network  number  of s...   \n",
       "2   the  hopfield  neural  network  model  for  associative  memory  ...   \n",
       "3   there is  presently great interest in the abilities of neural net...   \n",
       "4   the  aim  of  this  paper  is  to  explore  the  spatial  organiz...   \n",
       "\n",
       "                                                               full_text  \\\n",
       "0  the function a synthetic neural network may aspire to mimic are th...   \n",
       "1  the most distinguishing feature of neural network is their ability...   \n",
       "2  the ability to perfonn collective computation in a distributed sys...   \n",
       "3  alan lapedes robert farber theoretical division how neural net wor...   \n",
       "4  neural net model have been studied for many year in an attempt to ...   \n",
       "\n",
       "   Words_in_title  Chars_in_title  Avg_chars_in_title  Words_in_text  \\\n",
       "0               3              23            7.666667           3276   \n",
       "1               3              25            8.333333           1221   \n",
       "2               6              37            6.166667           1914   \n",
       "3               4              17            4.250000           5190   \n",
       "4               9              65            7.222222           2831   \n",
       "\n",
       "   Chars_in_text  Avg_chars_in_text  \n",
       "0          16564           5.056166  \n",
       "1           5634           4.614251  \n",
       "2           7916           4.135841  \n",
       "3          24447           4.710405  \n",
       "4          13934           4.921936  "
      ]
     },
     "execution_count": 24,
     "metadata": {},
     "output_type": "execute_result"
    }
   ],
   "source": [
    "papers_updated = pd.concat([papers_new, alnum_title, alnum_text], axis = 1)\n",
    "papers_updated.head()"
   ]
  },
  {
   "cell_type": "code",
   "execution_count": 25,
   "id": "canadian-region",
   "metadata": {
    "execution": {
     "iopub.execute_input": "2021-06-21T12:09:38.375570Z",
     "iopub.status.busy": "2021-06-21T12:09:38.374911Z",
     "iopub.status.idle": "2021-06-21T12:09:38.409497Z",
     "shell.execute_reply": "2021-06-21T12:09:38.409965Z"
    },
    "papermill": {
     "duration": 0.092459,
     "end_time": "2021-06-21T12:09:38.410137",
     "exception": false,
     "start_time": "2021-06-21T12:09:38.317678",
     "status": "completed"
    },
    "tags": []
   },
   "outputs": [
    {
     "data": {
      "text/html": [
       "<div>\n",
       "<style scoped>\n",
       "    .dataframe tbody tr th:only-of-type {\n",
       "        vertical-align: middle;\n",
       "    }\n",
       "\n",
       "    .dataframe tbody tr th {\n",
       "        vertical-align: top;\n",
       "    }\n",
       "\n",
       "    .dataframe thead th {\n",
       "        text-align: right;\n",
       "    }\n",
       "</style>\n",
       "<table border=\"1\" class=\"dataframe\">\n",
       "  <thead>\n",
       "    <tr style=\"text-align: right;\">\n",
       "      <th></th>\n",
       "      <th>Words_in_title</th>\n",
       "      <th>Chars_in_title</th>\n",
       "      <th>Avg_chars_in_title</th>\n",
       "      <th>Words_in_text</th>\n",
       "      <th>Chars_in_text</th>\n",
       "      <th>Avg_chars_in_text</th>\n",
       "    </tr>\n",
       "  </thead>\n",
       "  <tbody>\n",
       "    <tr>\n",
       "      <th>count</th>\n",
       "      <td>9680.000000</td>\n",
       "      <td>9680.000000</td>\n",
       "      <td>9680.000000</td>\n",
       "      <td>9680.000000</td>\n",
       "      <td>9680.000000</td>\n",
       "      <td>9670.000000</td>\n",
       "    </tr>\n",
       "    <tr>\n",
       "      <th>mean</th>\n",
       "      <td>7.632231</td>\n",
       "      <td>53.791012</td>\n",
       "      <td>7.233217</td>\n",
       "      <td>4189.994215</td>\n",
       "      <td>21731.579339</td>\n",
       "      <td>5.647471</td>\n",
       "    </tr>\n",
       "    <tr>\n",
       "      <th>std</th>\n",
       "      <td>2.760561</td>\n",
       "      <td>17.845441</td>\n",
       "      <td>1.280155</td>\n",
       "      <td>1183.943962</td>\n",
       "      <td>6409.394531</td>\n",
       "      <td>8.687662</td>\n",
       "    </tr>\n",
       "    <tr>\n",
       "      <th>min</th>\n",
       "      <td>1.000000</td>\n",
       "      <td>5.000000</td>\n",
       "      <td>3.000000</td>\n",
       "      <td>0.000000</td>\n",
       "      <td>0.000000</td>\n",
       "      <td>0.733587</td>\n",
       "    </tr>\n",
       "    <tr>\n",
       "      <th>25%</th>\n",
       "      <td>6.000000</td>\n",
       "      <td>41.000000</td>\n",
       "      <td>6.375000</td>\n",
       "      <td>3329.750000</td>\n",
       "      <td>16802.500000</td>\n",
       "      <td>4.893806</td>\n",
       "    </tr>\n",
       "    <tr>\n",
       "      <th>50%</th>\n",
       "      <td>7.000000</td>\n",
       "      <td>53.000000</td>\n",
       "      <td>7.125000</td>\n",
       "      <td>4395.500000</td>\n",
       "      <td>22489.500000</td>\n",
       "      <td>5.140026</td>\n",
       "    </tr>\n",
       "    <tr>\n",
       "      <th>75%</th>\n",
       "      <td>9.000000</td>\n",
       "      <td>66.000000</td>\n",
       "      <td>8.000000</td>\n",
       "      <td>5013.000000</td>\n",
       "      <td>26223.000000</td>\n",
       "      <td>5.399486</td>\n",
       "    </tr>\n",
       "    <tr>\n",
       "      <th>max</th>\n",
       "      <td>20.000000</td>\n",
       "      <td>136.000000</td>\n",
       "      <td>20.500000</td>\n",
       "      <td>11058.000000</td>\n",
       "      <td>52547.000000</td>\n",
       "      <td>578.750000</td>\n",
       "    </tr>\n",
       "  </tbody>\n",
       "</table>\n",
       "</div>"
      ],
      "text/plain": [
       "       Words_in_title  Chars_in_title  Avg_chars_in_title  Words_in_text  \\\n",
       "count     9680.000000     9680.000000         9680.000000    9680.000000   \n",
       "mean         7.632231       53.791012            7.233217    4189.994215   \n",
       "std          2.760561       17.845441            1.280155    1183.943962   \n",
       "min          1.000000        5.000000            3.000000       0.000000   \n",
       "25%          6.000000       41.000000            6.375000    3329.750000   \n",
       "50%          7.000000       53.000000            7.125000    4395.500000   \n",
       "75%          9.000000       66.000000            8.000000    5013.000000   \n",
       "max         20.000000      136.000000           20.500000   11058.000000   \n",
       "\n",
       "       Chars_in_text  Avg_chars_in_text  \n",
       "count    9680.000000        9670.000000  \n",
       "mean    21731.579339           5.647471  \n",
       "std      6409.394531           8.687662  \n",
       "min         0.000000           0.733587  \n",
       "25%     16802.500000           4.893806  \n",
       "50%     22489.500000           5.140026  \n",
       "75%     26223.000000           5.399486  \n",
       "max     52547.000000         578.750000  "
      ]
     },
     "execution_count": 25,
     "metadata": {},
     "output_type": "execute_result"
    }
   ],
   "source": [
    "cols = ['Words_in_title', 'Chars_in_title', 'Avg_chars_in_title', 'Words_in_text', 'Chars_in_text', 'Avg_chars_in_text']\n",
    "papers_updated[cols].describe()"
   ]
  },
  {
   "cell_type": "code",
   "execution_count": 26,
   "id": "known-problem",
   "metadata": {
    "execution": {
     "iopub.execute_input": "2021-06-21T12:09:38.523442Z",
     "iopub.status.busy": "2021-06-21T12:09:38.522679Z",
     "iopub.status.idle": "2021-06-21T12:09:39.052475Z",
     "shell.execute_reply": "2021-06-21T12:09:39.051816Z"
    },
    "papermill": {
     "duration": 0.589479,
     "end_time": "2021-06-21T12:09:39.052612",
     "exception": false,
     "start_time": "2021-06-21T12:09:38.463133",
     "status": "completed"
    },
    "tags": []
   },
   "outputs": [
    {
     "data": {
      "text/plain": [
       "<AxesSubplot:xlabel='Chars_in_title', ylabel='Count'>"
      ]
     },
     "execution_count": 26,
     "metadata": {},
     "output_type": "execute_result"
    },
    {
     "data": {
      "image/png": "[encoded data removed]",
      "text/plain": [
       "<Figure size 1152x720 with 2 Axes>"
      ]
     },
     "metadata": {
      "needs_background": "light"
     },
     "output_type": "display_data"
    }
   ],
   "source": [
    "import seaborn as sns\n",
    "import matplotlib.pyplot as plt\n",
    "\n",
    "fig, axes = plt.subplots(1, 2, figsize = (16, 10))\n",
    "fig.suptitle('EDA on title')\n",
    "\n",
    "sns.histplot(ax = axes[0], x = papers_updated.Words_in_title, discrete = True)\n",
    "sns.histplot(ax = axes[1], x = papers_updated.Chars_in_title, bins = 22)"
   ]
  },
  {
   "cell_type": "markdown",
   "id": "mathematical-relation",
   "metadata": {
    "papermill": {
     "duration": 0.054401,
     "end_time": "2021-06-21T12:09:39.162062",
     "exception": false,
     "start_time": "2021-06-21T12:09:39.107661",
     "status": "completed"
    },
    "tags": []
   },
   "source": [
    "**Observation 1:** The titles seem to have around 6 to 8 words on average.  \n",
    "**Observation 2:** The titles seem to have around 34 to 58 characters on average."
   ]
  },
  {
   "cell_type": "code",
   "execution_count": 27,
   "id": "nominated-presence",
   "metadata": {
    "execution": {
     "iopub.execute_input": "2021-06-21T12:09:39.325517Z",
     "iopub.status.busy": "2021-06-21T12:09:39.310295Z",
     "iopub.status.idle": "2021-06-21T12:09:40.312059Z",
     "shell.execute_reply": "2021-06-21T12:09:40.311377Z"
    },
    "papermill": {
     "duration": 1.095219,
     "end_time": "2021-06-21T12:09:40.312198",
     "exception": false,
     "start_time": "2021-06-21T12:09:39.216979",
     "status": "completed"
    },
    "tags": []
   },
   "outputs": [
    {
     "data": {
      "text/plain": [
       "<AxesSubplot:xlabel='Chars_in_text', ylabel='Count'>"
      ]
     },
     "execution_count": 27,
     "metadata": {},
     "output_type": "execute_result"
    },
    {
     "data": {
      "image/png": "[encoded data removed]",
      "text/plain": [
       "<Figure size 1152x720 with 2 Axes>"
      ]
     },
     "metadata": {
      "needs_background": "light"
     },
     "output_type": "display_data"
    }
   ],
   "source": [
    "fig, axes = plt.subplots(1, 2, figsize = (16, 10))\n",
    "sns.histplot(ax = axes[0], x = papers_updated.Words_in_text, bins = 100, kde = True)\n",
    "sns.histplot(ax = axes[1], x = papers_updated.Chars_in_text, bins = 200, kde = True)"
   ]
  },
  {
   "cell_type": "markdown",
   "id": "straight-cradle",
   "metadata": {
    "papermill": {
     "duration": 0.056495,
     "end_time": "2021-06-21T12:09:40.425214",
     "exception": false,
     "start_time": "2021-06-21T12:09:40.368719",
     "status": "completed"
    },
    "tags": []
   },
   "source": [
    "**Observation 3:** The full texts seems to have around 4500 to 6000 words on average (just a guess).  \n",
    "**Observation 4:** The full texts seem to have around 22250 to 27500 characters on average."
   ]
  },
  {
   "cell_type": "markdown",
   "id": "periodic-memory",
   "metadata": {
    "papermill": {
     "duration": 0.056381,
     "end_time": "2021-06-21T12:09:40.537957",
     "exception": false,
     "start_time": "2021-06-21T12:09:40.481576",
     "status": "completed"
    },
    "tags": []
   },
   "source": [
    "### 2.1. Top words in the `title` and `abstract`"
   ]
  },
  {
   "cell_type": "code",
   "execution_count": 28,
   "id": "novel-disco",
   "metadata": {
    "execution": {
     "iopub.execute_input": "2021-06-21T12:09:40.661427Z",
     "iopub.status.busy": "2021-06-21T12:09:40.660086Z",
     "iopub.status.idle": "2021-06-21T12:09:42.230486Z",
     "shell.execute_reply": "2021-06-21T12:09:42.229873Z"
    },
    "papermill": {
     "duration": 1.636284,
     "end_time": "2021-06-21T12:09:42.230620",
     "exception": false,
     "start_time": "2021-06-21T12:09:40.594336",
     "status": "completed"
    },
    "tags": []
   },
   "outputs": [
    {
     "name": "stdout",
     "output_type": "stream",
     "text": [
      "All frequencies, including STOPWORDS:\n",
      "============================================================\n",
      "            Word  Frequency\n",
      "0            for       2840\n",
      "1             of       2289\n",
      "2       learning       2161\n",
      "3            and       1676\n",
      "4              a       1439\n",
      "5           with       1422\n",
      "6             in       1364\n",
      "7            the       1195\n",
      "8         neural        907\n",
      "9       networks        862\n",
      "10            to        700\n",
      "11        models        611\n",
      "12         using        549\n",
      "13            on        537\n",
      "14         model        450\n",
      "15          from        412\n",
      "16          deep        389\n",
      "17           via        375\n",
      "18      bayesian        369\n",
      "19  optimization        352\n",
      "20          data        351\n",
      "21       network        338\n",
      "22     inference        326\n",
      "23            by        299\n",
      "24      analysis        294\n",
      "============================================================\n"
     ]
    },
    {
     "data": {
      "image/png": "[encoded data removed]",
      "text/plain": [
       "<Figure size 1152x720 with 1 Axes>"
      ]
     },
     "metadata": {
      "needs_background": "light"
     },
     "output_type": "display_data"
    }
   ],
   "source": [
    "top_N = 25\n",
    "\n",
    "txt = papers_updated.title.str.cat(sep = ' ')\n",
    "words = nltk.tokenize.word_tokenize(txt)\n",
    "word_dist = nltk.FreqDist(words)\n",
    "\n",
    "stopwords = nltk.corpus.stopwords.words('english')\n",
    "words_except_stop_dist = nltk.FreqDist(w for w in words if w not in stopwords) \n",
    "\n",
    "print('All frequencies, including STOPWORDS:')\n",
    "print('=' * 60)\n",
    "rslt = pd.DataFrame(word_dist.most_common(top_N), columns=['Word', 'Frequency'])\n",
    "print(rslt)\n",
    "print('=' * 60)\n",
    "\n",
    "rslt = pd.DataFrame(words_except_stop_dist.most_common(top_N),\n",
    "                    columns=['Word', 'Frequency']).set_index('Word')\n",
    "\n",
    "rslt.plot.bar(rot = 45, figsize = (16, 10), title = 'Top 25 words used in Title, excluding STOPWORDS')\n",
    "\n",
    "for i, v in enumerate(rslt.Frequency):\n",
    "    plt.text(i, v, \"\" + str(v), color = 'blue', horizontalalignment = 'center')"
   ]
  },
  {
   "cell_type": "code",
   "execution_count": 29,
   "id": "increased-resistance",
   "metadata": {
    "execution": {
     "iopub.execute_input": "2021-06-21T12:09:46.596310Z",
     "iopub.status.busy": "2021-06-21T12:09:46.574747Z",
     "iopub.status.idle": "2021-06-21T12:10:06.013235Z",
     "shell.execute_reply": "2021-06-21T12:10:06.012669Z"
    },
    "papermill": {
     "duration": 23.723975,
     "end_time": "2021-06-21T12:10:06.013377",
     "exception": false,
     "start_time": "2021-06-21T12:09:42.289402",
     "status": "completed"
    },
    "tags": []
   },
   "outputs": [
    {
     "name": "stdout",
     "output_type": "stream",
     "text": [
      "All frequencies, including STOPWORDS:\n",
      "============================================================\n",
      "        Word  Frequency\n",
      "0        the      98986\n",
      "1         of      59870\n",
      "2          a      47186\n",
      "3        and      39005\n",
      "4         to      37942\n",
      "5         in      32441\n",
      "6         we      26664\n",
      "7         is      25793\n",
      "8        for      21183\n",
      "9       that      21154\n",
      "10        on      14472\n",
      "11      this      13467\n",
      "12      with      12972\n",
      "13        as      11092\n",
      "14       are      10810\n",
      "15        by      10483\n",
      "16        an       9499\n",
      "17  learning       8666\n",
      "18        be       8652\n",
      "19       can       8554\n",
      "20       our       7748\n",
      "21     model       7740\n",
      "22      from       7469\n",
      "23     which       7230\n",
      "24      data       6740\n",
      "============================================================\n"
     ]
    },
    {
     "data": {
      "image/png": "[encoded data removed]",
      "text/plain": [
       "<Figure size 1152x720 with 1 Axes>"
      ]
     },
     "metadata": {
      "needs_background": "light"
     },
     "output_type": "display_data"
    }
   ],
   "source": [
    "top_N = 25\n",
    "\n",
    "txt = papers_updated.abstract.str.cat(sep = ' ')\n",
    "words = nltk.tokenize.word_tokenize(txt)\n",
    "word_dist = nltk.FreqDist(words)\n",
    "\n",
    "stopwords = nltk.corpus.stopwords.words('english')\n",
    "words_except_stop_dist = nltk.FreqDist(w for w in words if w not in stopwords) \n",
    "\n",
    "print('All frequencies, including STOPWORDS:')\n",
    "print('=' * 60)\n",
    "rslt = pd.DataFrame(word_dist.most_common(top_N), columns=['Word', 'Frequency'])\n",
    "print(rslt)\n",
    "print('=' * 60)\n",
    "\n",
    "rslt = pd.DataFrame(words_except_stop_dist.most_common(top_N),\n",
    "                    columns=['Word', 'Frequency']).set_index('Word')\n",
    "\n",
    "rslt.plot.bar(rot = 45, figsize = (16, 10), title = 'Top 25 words used in Abstract, excluding STOPWORDS')\n",
    "\n",
    "for i, v in enumerate(rslt.Frequency):\n",
    "    plt.text(i, v, \"\" + str(v), color = 'blue', horizontalalignment = 'center')"
   ]
  },
  {
   "cell_type": "markdown",
   "id": "unauthorized-commitment",
   "metadata": {
    "papermill": {
     "duration": 0.061706,
     "end_time": "2021-06-21T12:10:06.136957",
     "exception": false,
     "start_time": "2021-06-21T12:10:06.075251",
     "status": "completed"
    },
    "tags": []
   },
   "source": [
    "**Observation 5:** Some of the common words used in both the title and the abstract are: \n",
    "$$\\text{Model, Neural, Algorithm, Learning, Network, Data}$$"
   ]
  },
  {
   "cell_type": "markdown",
   "id": "headed-afghanistan",
   "metadata": {
    "papermill": {
     "duration": 0.060908,
     "end_time": "2021-06-21T12:10:06.258914",
     "exception": false,
     "start_time": "2021-06-21T12:10:06.198006",
     "status": "completed"
    },
    "tags": []
   },
   "source": [
    "# 3. Topic modelling"
   ]
  },
  {
   "cell_type": "markdown",
   "id": "efficient-choice",
   "metadata": {
    "papermill": {
     "duration": 0.074974,
     "end_time": "2021-06-21T12:10:06.400770",
     "exception": false,
     "start_time": "2021-06-21T12:10:06.325796",
     "status": "completed"
    },
    "tags": []
   },
   "source": [
    "From [here](https://github.com/adashofdata/nlp-in-python-tutorial/blob/master/4-Topic-Modeling.ipynb):\n",
    "> A popular text analysis technique is called **topic modelling**. The ultimate goal of topic modelling is to find various topics that are present in our corpus. Each document in the corpus will be made up of at least one topic, if not multiple topics. We will be doing Latent Dirichlet Allocation (LDA), one of many topic modelling techniques specifically designed for text data.\n",
    "\n",
    "> To use a topic modelling technique, we need to provide: (1) a document-term matrix and (2) the number of topics we would like the algorithm to pick up. Once the topic modelling technique is applied, our job as a human is to interpret the results and see if the mix of words in each topic make sense. If they don't make sense, we can try changing the number of topics, the terms in the document-term matrix, model parameters, or even try a different model."
   ]
  },
  {
   "cell_type": "code",
   "execution_count": 30,
   "id": "mediterranean-opening",
   "metadata": {
    "execution": {
     "iopub.execute_input": "2021-06-21T12:10:06.534204Z",
     "iopub.status.busy": "2021-06-21T12:10:06.533499Z",
     "iopub.status.idle": "2021-06-21T12:10:06.720083Z",
     "shell.execute_reply": "2021-06-21T12:10:06.719404Z"
    },
    "papermill": {
     "duration": 0.252785,
     "end_time": "2021-06-21T12:10:06.720302",
     "exception": false,
     "start_time": "2021-06-21T12:10:06.467517",
     "status": "completed"
    },
    "tags": []
   },
   "outputs": [],
   "source": [
    "# Import the necessary modules for LDA with gensim\n",
    "from gensim import matutils, models\n",
    "import scipy.sparse\n",
    "\n",
    "import logging\n",
    "# Display progress logs on stdout\n",
    "logging.basicConfig(format='%(asctime)s : %(levelname)s : %(message)s', level=logging.INFO)"
   ]
  },
  {
   "cell_type": "code",
   "execution_count": 31,
   "id": "governing-balance",
   "metadata": {
    "execution": {
     "iopub.execute_input": "2021-06-21T12:10:06.899722Z",
     "iopub.status.busy": "2021-06-21T12:10:06.883987Z",
     "iopub.status.idle": "2021-06-21T12:15:43.352973Z",
     "shell.execute_reply": "2021-06-21T12:15:43.353622Z"
    },
    "papermill": {
     "duration": 336.572906,
     "end_time": "2021-06-21T12:15:43.353899",
     "exception": false,
     "start_time": "2021-06-21T12:10:06.780993",
     "status": "completed"
    },
    "tags": []
   },
   "outputs": [
    {
     "data": {
      "text/html": [
       "<div>\n",
       "<style scoped>\n",
       "    .dataframe tbody tr th:only-of-type {\n",
       "        vertical-align: middle;\n",
       "    }\n",
       "\n",
       "    .dataframe tbody tr th {\n",
       "        vertical-align: top;\n",
       "    }\n",
       "\n",
       "    .dataframe thead th {\n",
       "        text-align: right;\n",
       "    }\n",
       "</style>\n",
       "<table border=\"1\" class=\"dataframe\">\n",
       "  <thead>\n",
       "    <tr style=\"text-align: right;\">\n",
       "      <th></th>\n",
       "      <th>aaai</th>\n",
       "      <th>ab</th>\n",
       "      <th>ability</th>\n",
       "      <th>able</th>\n",
       "      <th>absolute</th>\n",
       "      <th>abstract</th>\n",
       "      <th>accelerated</th>\n",
       "      <th>access</th>\n",
       "      <th>according</th>\n",
       "      <th>account</th>\n",
       "      <th>...</th>\n",
       "      <th>ﬁrst</th>\n",
       "      <th>ﬁrstorder</th>\n",
       "      <th>ﬁt</th>\n",
       "      <th>ﬁtting</th>\n",
       "      <th>ﬁve</th>\n",
       "      <th>ﬁx</th>\n",
       "      <th>ﬁxed</th>\n",
       "      <th>ﬁxed point</th>\n",
       "      <th>ﬂexible</th>\n",
       "      <th>ﬂow</th>\n",
       "    </tr>\n",
       "  </thead>\n",
       "  <tbody>\n",
       "    <tr>\n",
       "      <th>0</th>\n",
       "      <td>0</td>\n",
       "      <td>0</td>\n",
       "      <td>2</td>\n",
       "      <td>1</td>\n",
       "      <td>0</td>\n",
       "      <td>0</td>\n",
       "      <td>0</td>\n",
       "      <td>1</td>\n",
       "      <td>1</td>\n",
       "      <td>0</td>\n",
       "      <td>...</td>\n",
       "      <td>0</td>\n",
       "      <td>0</td>\n",
       "      <td>0</td>\n",
       "      <td>0</td>\n",
       "      <td>0</td>\n",
       "      <td>0</td>\n",
       "      <td>0</td>\n",
       "      <td>0</td>\n",
       "      <td>0</td>\n",
       "      <td>0</td>\n",
       "    </tr>\n",
       "    <tr>\n",
       "      <th>1</th>\n",
       "      <td>0</td>\n",
       "      <td>0</td>\n",
       "      <td>2</td>\n",
       "      <td>0</td>\n",
       "      <td>0</td>\n",
       "      <td>0</td>\n",
       "      <td>0</td>\n",
       "      <td>1</td>\n",
       "      <td>1</td>\n",
       "      <td>0</td>\n",
       "      <td>...</td>\n",
       "      <td>0</td>\n",
       "      <td>0</td>\n",
       "      <td>0</td>\n",
       "      <td>0</td>\n",
       "      <td>0</td>\n",
       "      <td>0</td>\n",
       "      <td>0</td>\n",
       "      <td>0</td>\n",
       "      <td>0</td>\n",
       "      <td>0</td>\n",
       "    </tr>\n",
       "    <tr>\n",
       "      <th>2</th>\n",
       "      <td>0</td>\n",
       "      <td>0</td>\n",
       "      <td>1</td>\n",
       "      <td>0</td>\n",
       "      <td>0</td>\n",
       "      <td>0</td>\n",
       "      <td>0</td>\n",
       "      <td>0</td>\n",
       "      <td>0</td>\n",
       "      <td>0</td>\n",
       "      <td>...</td>\n",
       "      <td>0</td>\n",
       "      <td>0</td>\n",
       "      <td>0</td>\n",
       "      <td>0</td>\n",
       "      <td>0</td>\n",
       "      <td>0</td>\n",
       "      <td>0</td>\n",
       "      <td>0</td>\n",
       "      <td>0</td>\n",
       "      <td>0</td>\n",
       "    </tr>\n",
       "    <tr>\n",
       "      <th>3</th>\n",
       "      <td>0</td>\n",
       "      <td>0</td>\n",
       "      <td>6</td>\n",
       "      <td>5</td>\n",
       "      <td>0</td>\n",
       "      <td>1</td>\n",
       "      <td>0</td>\n",
       "      <td>0</td>\n",
       "      <td>0</td>\n",
       "      <td>0</td>\n",
       "      <td>...</td>\n",
       "      <td>0</td>\n",
       "      <td>0</td>\n",
       "      <td>0</td>\n",
       "      <td>0</td>\n",
       "      <td>0</td>\n",
       "      <td>0</td>\n",
       "      <td>0</td>\n",
       "      <td>0</td>\n",
       "      <td>0</td>\n",
       "      <td>0</td>\n",
       "    </tr>\n",
       "    <tr>\n",
       "      <th>4</th>\n",
       "      <td>0</td>\n",
       "      <td>0</td>\n",
       "      <td>0</td>\n",
       "      <td>0</td>\n",
       "      <td>0</td>\n",
       "      <td>0</td>\n",
       "      <td>0</td>\n",
       "      <td>0</td>\n",
       "      <td>7</td>\n",
       "      <td>0</td>\n",
       "      <td>...</td>\n",
       "      <td>0</td>\n",
       "      <td>0</td>\n",
       "      <td>0</td>\n",
       "      <td>0</td>\n",
       "      <td>0</td>\n",
       "      <td>0</td>\n",
       "      <td>0</td>\n",
       "      <td>0</td>\n",
       "      <td>0</td>\n",
       "      <td>0</td>\n",
       "    </tr>\n",
       "  </tbody>\n",
       "</table>\n",
       "<p>5 rows × 2500 columns</p>\n",
       "</div>"
      ],
      "text/plain": [
       "   aaai  ab  ability  able  absolute  abstract  accelerated  access  \\\n",
       "0     0   0        2     1         0         0            0       1   \n",
       "1     0   0        2     0         0         0            0       1   \n",
       "2     0   0        1     0         0         0            0       0   \n",
       "3     0   0        6     5         0         1            0       0   \n",
       "4     0   0        0     0         0         0            0       0   \n",
       "\n",
       "   according  account  ...  ﬁrst  ﬁrstorder  ﬁt  ﬁtting  ﬁve  ﬁx  ﬁxed  \\\n",
       "0          1        0  ...     0          0   0       0    0   0     0   \n",
       "1          1        0  ...     0          0   0       0    0   0     0   \n",
       "2          0        0  ...     0          0   0       0    0   0     0   \n",
       "3          0        0  ...     0          0   0       0    0   0     0   \n",
       "4          7        0  ...     0          0   0       0    0   0     0   \n",
       "\n",
       "   ﬁxed point  ﬂexible  ﬂow  \n",
       "0           0        0    0  \n",
       "1           0        0    0  \n",
       "2           0        0    0  \n",
       "3           0        0    0  \n",
       "4           0        0    0  \n",
       "\n",
       "[5 rows x 2500 columns]"
      ]
     },
     "execution_count": 31,
     "metadata": {},
     "output_type": "execute_result"
    }
   ],
   "source": [
    "# We create a document-term matrix using CountVectorizer excluding common English stop words\n",
    "# Additionally use unigrams, bigrams and trigrams ignoring words that appear only in 1 document\n",
    "# Also, use only the top 2500 features (these are ordered by term frequency across the corpus)\n",
    "from sklearn.feature_extraction.text import CountVectorizer\n",
    "\n",
    "# Use raw term count features for LDA. LDA has TF-IDF built in, so we need to use a CountVectorizer \n",
    "# as the vectorizer instead of a TfidfVectorizer.\n",
    "cv = CountVectorizer(stop_words = 'english', min_df = 2, ngram_range = (1, 3), max_features = 2500)\n",
    "data_cv = cv.fit_transform(papers_updated.full_text)\n",
    "\n",
    "data_dtm = pd.DataFrame(data_cv.toarray(), columns = cv.get_feature_names())\n",
    "data_dtm.index = papers_updated.index\n",
    "\n",
    "data_dtm.head()"
   ]
  },
  {
   "cell_type": "code",
   "execution_count": 32,
   "id": "coral-airport",
   "metadata": {
    "execution": {
     "iopub.execute_input": "2021-06-21T12:15:43.567376Z",
     "iopub.status.busy": "2021-06-21T12:15:43.566669Z",
     "iopub.status.idle": "2021-06-21T12:15:43.583776Z",
     "shell.execute_reply": "2021-06-21T12:15:43.584284Z"
    },
    "papermill": {
     "duration": 0.085554,
     "end_time": "2021-06-21T12:15:43.584466",
     "exception": false,
     "start_time": "2021-06-21T12:15:43.498912",
     "status": "completed"
    },
    "tags": []
   },
   "outputs": [
    {
     "data": {
      "text/html": [
       "<div>\n",
       "<style scoped>\n",
       "    .dataframe tbody tr th:only-of-type {\n",
       "        vertical-align: middle;\n",
       "    }\n",
       "\n",
       "    .dataframe tbody tr th {\n",
       "        vertical-align: top;\n",
       "    }\n",
       "\n",
       "    .dataframe thead th {\n",
       "        text-align: right;\n",
       "    }\n",
       "</style>\n",
       "<table border=\"1\" class=\"dataframe\">\n",
       "  <thead>\n",
       "    <tr style=\"text-align: right;\">\n",
       "      <th></th>\n",
       "      <th>0</th>\n",
       "      <th>1</th>\n",
       "      <th>2</th>\n",
       "      <th>3</th>\n",
       "      <th>4</th>\n",
       "      <th>5</th>\n",
       "      <th>6</th>\n",
       "      <th>7</th>\n",
       "      <th>8</th>\n",
       "      <th>9</th>\n",
       "      <th>...</th>\n",
       "      <th>9670</th>\n",
       "      <th>9671</th>\n",
       "      <th>9672</th>\n",
       "      <th>9673</th>\n",
       "      <th>9674</th>\n",
       "      <th>9675</th>\n",
       "      <th>9676</th>\n",
       "      <th>9677</th>\n",
       "      <th>9678</th>\n",
       "      <th>9679</th>\n",
       "    </tr>\n",
       "  </thead>\n",
       "  <tbody>\n",
       "    <tr>\n",
       "      <th>aaai</th>\n",
       "      <td>0</td>\n",
       "      <td>0</td>\n",
       "      <td>0</td>\n",
       "      <td>0</td>\n",
       "      <td>0</td>\n",
       "      <td>0</td>\n",
       "      <td>0</td>\n",
       "      <td>0</td>\n",
       "      <td>0</td>\n",
       "      <td>0</td>\n",
       "      <td>...</td>\n",
       "      <td>6</td>\n",
       "      <td>2</td>\n",
       "      <td>0</td>\n",
       "      <td>0</td>\n",
       "      <td>1</td>\n",
       "      <td>0</td>\n",
       "      <td>0</td>\n",
       "      <td>0</td>\n",
       "      <td>0</td>\n",
       "      <td>0</td>\n",
       "    </tr>\n",
       "    <tr>\n",
       "      <th>ab</th>\n",
       "      <td>0</td>\n",
       "      <td>0</td>\n",
       "      <td>0</td>\n",
       "      <td>0</td>\n",
       "      <td>0</td>\n",
       "      <td>0</td>\n",
       "      <td>0</td>\n",
       "      <td>0</td>\n",
       "      <td>0</td>\n",
       "      <td>0</td>\n",
       "      <td>...</td>\n",
       "      <td>2</td>\n",
       "      <td>2</td>\n",
       "      <td>0</td>\n",
       "      <td>2</td>\n",
       "      <td>0</td>\n",
       "      <td>0</td>\n",
       "      <td>0</td>\n",
       "      <td>1</td>\n",
       "      <td>0</td>\n",
       "      <td>0</td>\n",
       "    </tr>\n",
       "    <tr>\n",
       "      <th>ability</th>\n",
       "      <td>2</td>\n",
       "      <td>2</td>\n",
       "      <td>1</td>\n",
       "      <td>6</td>\n",
       "      <td>0</td>\n",
       "      <td>0</td>\n",
       "      <td>0</td>\n",
       "      <td>0</td>\n",
       "      <td>5</td>\n",
       "      <td>3</td>\n",
       "      <td>...</td>\n",
       "      <td>0</td>\n",
       "      <td>0</td>\n",
       "      <td>0</td>\n",
       "      <td>1</td>\n",
       "      <td>1</td>\n",
       "      <td>1</td>\n",
       "      <td>0</td>\n",
       "      <td>0</td>\n",
       "      <td>0</td>\n",
       "      <td>1</td>\n",
       "    </tr>\n",
       "    <tr>\n",
       "      <th>able</th>\n",
       "      <td>1</td>\n",
       "      <td>0</td>\n",
       "      <td>0</td>\n",
       "      <td>5</td>\n",
       "      <td>0</td>\n",
       "      <td>2</td>\n",
       "      <td>3</td>\n",
       "      <td>1</td>\n",
       "      <td>5</td>\n",
       "      <td>0</td>\n",
       "      <td>...</td>\n",
       "      <td>1</td>\n",
       "      <td>0</td>\n",
       "      <td>0</td>\n",
       "      <td>0</td>\n",
       "      <td>0</td>\n",
       "      <td>0</td>\n",
       "      <td>0</td>\n",
       "      <td>1</td>\n",
       "      <td>0</td>\n",
       "      <td>0</td>\n",
       "    </tr>\n",
       "    <tr>\n",
       "      <th>absolute</th>\n",
       "      <td>0</td>\n",
       "      <td>0</td>\n",
       "      <td>0</td>\n",
       "      <td>0</td>\n",
       "      <td>0</td>\n",
       "      <td>0</td>\n",
       "      <td>1</td>\n",
       "      <td>0</td>\n",
       "      <td>0</td>\n",
       "      <td>0</td>\n",
       "      <td>...</td>\n",
       "      <td>0</td>\n",
       "      <td>0</td>\n",
       "      <td>1</td>\n",
       "      <td>0</td>\n",
       "      <td>1</td>\n",
       "      <td>0</td>\n",
       "      <td>0</td>\n",
       "      <td>0</td>\n",
       "      <td>0</td>\n",
       "      <td>0</td>\n",
       "    </tr>\n",
       "  </tbody>\n",
       "</table>\n",
       "<p>5 rows × 9680 columns</p>\n",
       "</div>"
      ],
      "text/plain": [
       "          0     1     2     3     4     5     6     7     8     9     ...  \\\n",
       "aaai         0     0     0     0     0     0     0     0     0     0  ...   \n",
       "ab           0     0     0     0     0     0     0     0     0     0  ...   \n",
       "ability      2     2     1     6     0     0     0     0     5     3  ...   \n",
       "able         1     0     0     5     0     2     3     1     5     0  ...   \n",
       "absolute     0     0     0     0     0     0     1     0     0     0  ...   \n",
       "\n",
       "          9670  9671  9672  9673  9674  9675  9676  9677  9678  9679  \n",
       "aaai         6     2     0     0     1     0     0     0     0     0  \n",
       "ab           2     2     0     2     0     0     0     1     0     0  \n",
       "ability      0     0     0     1     1     1     0     0     0     1  \n",
       "able         1     0     0     0     0     0     0     1     0     0  \n",
       "absolute     0     0     1     0     1     0     0     0     0     0  \n",
       "\n",
       "[5 rows x 9680 columns]"
      ]
     },
     "execution_count": 32,
     "metadata": {},
     "output_type": "execute_result"
    }
   ],
   "source": [
    "# Term-document matrix\n",
    "tdm = data_dtm.transpose()\n",
    "tdm.head()"
   ]
  },
  {
   "cell_type": "code",
   "execution_count": 33,
   "id": "mental-aruba",
   "metadata": {
    "execution": {
     "iopub.execute_input": "2021-06-21T12:15:43.712229Z",
     "iopub.status.busy": "2021-06-21T12:15:43.711543Z",
     "iopub.status.idle": "2021-06-21T12:15:44.570410Z",
     "shell.execute_reply": "2021-06-21T12:15:44.569739Z"
    },
    "papermill": {
     "duration": 0.923814,
     "end_time": "2021-06-21T12:15:44.570558",
     "exception": false,
     "start_time": "2021-06-21T12:15:43.646744",
     "status": "completed"
    },
    "tags": []
   },
   "outputs": [],
   "source": [
    "# We're going to put the term-document matrix into a new gensim format, from df --> sparse matrix --> gensim corpus\n",
    "sparse_counts = scipy.sparse.csr_matrix(tdm)\n",
    "corpus = matutils.Sparse2Corpus(sparse_counts)"
   ]
  },
  {
   "cell_type": "code",
   "execution_count": 34,
   "id": "adaptive-fifty",
   "metadata": {
    "execution": {
     "iopub.execute_input": "2021-06-21T12:15:44.720560Z",
     "iopub.status.busy": "2021-06-21T12:15:44.704359Z",
     "iopub.status.idle": "2021-06-21T12:15:44.763904Z",
     "shell.execute_reply": "2021-06-21T12:15:44.763189Z"
    },
    "papermill": {
     "duration": 0.130831,
     "end_time": "2021-06-21T12:15:44.764049",
     "exception": false,
     "start_time": "2021-06-21T12:15:44.633218",
     "status": "completed"
    },
    "tags": []
   },
   "outputs": [],
   "source": [
    "# Gensim also requires dictionary of the all terms and their respective location in the term-document matrix\n",
    "id2word = dict((v, k) for k, v in cv.vocabulary_.items())"
   ]
  },
  {
   "cell_type": "markdown",
   "id": "incorporate-chuck",
   "metadata": {
    "papermill": {
     "duration": 0.062989,
     "end_time": "2021-06-21T12:15:44.889564",
     "exception": false,
     "start_time": "2021-06-21T12:15:44.826575",
     "status": "completed"
    },
    "tags": []
   },
   "source": [
    "Now that we have the `corpus` (term-document matrix) and `id2word` (dictionary of location: term), we need to specify two other parameters - the number of topics and the number of passes.  \n",
    "***\n",
    "**Note:** We are modelling the topics using `full_text` of `papers_updated` dataset."
   ]
  },
  {
   "cell_type": "code",
   "execution_count": 35,
   "id": "modern-roommate",
   "metadata": {
    "execution": {
     "iopub.execute_input": "2021-06-21T12:15:45.023748Z",
     "iopub.status.busy": "2021-06-21T12:15:45.023079Z",
     "iopub.status.idle": "2021-06-21T12:52:30.020801Z",
     "shell.execute_reply": "2021-06-21T12:52:30.021349Z"
    },
    "papermill": {
     "duration": 2205.068902,
     "end_time": "2021-06-21T12:52:30.021540",
     "exception": false,
     "start_time": "2021-06-21T12:15:44.952638",
     "status": "completed"
    },
    "tags": []
   },
   "outputs": [
    {
     "data": {
      "text/plain": [
       "[(0,\n",
       "  '0.039*\"algorithm\" + 0.019*\"regret\" + 0.014*\"bound\" + 0.013*\"online\" + 0.011*\"time\" + 0.011*\"problem\" + 0.011*\"arm\" + 0.010*\"game\" + 0.010*\"learning\" + 0.010*\"bandit\"'),\n",
       " (1,\n",
       "  '0.030*\"network\" + 0.022*\"input\" + 0.016*\"neural\" + 0.013*\"unit\" + 0.013*\"output\" + 0.012*\"function\" + 0.011*\"weight\" + 0.011*\"neuron\" + 0.011*\"time\" + 0.010*\"learning\"'),\n",
       " (2,\n",
       "  '0.059*\"network\" + 0.029*\"training\" + 0.029*\"layer\" + 0.022*\"neural\" + 0.021*\"deep\" + 0.019*\"neural network\" + 0.019*\"learning\" + 0.011*\"architecture\" + 0.011*\"weight\" + 0.010*\"model\"'),\n",
       " (3,\n",
       "  '0.038*\"model\" + 0.019*\"word\" + 0.016*\"task\" + 0.011*\"language\" + 0.010*\"set\" + 0.010*\"sequence\" + 0.009*\"topic\" + 0.009*\"user\" + 0.009*\"data\" + 0.008*\"domain\"'),\n",
       " (4,\n",
       "  '0.063*\"image\" + 0.025*\"object\" + 0.021*\"feature\" + 0.012*\"model\" + 0.010*\"recognition\" + 0.010*\"vision\" + 0.009*\"visual\" + 0.008*\"pixel\" + 0.008*\"map\" + 0.008*\"using\"'),\n",
       " (5,\n",
       "  '0.036*\"policy\" + 0.032*\"state\" + 0.026*\"learning\" + 0.020*\"agent\" + 0.019*\"action\" + 0.018*\"reward\" + 0.014*\"function\" + 0.013*\"value\" + 0.011*\"reinforcement\" + 0.010*\"reinforcement learning\"'),\n",
       " (6,\n",
       "  '0.027*\"learning\" + 0.022*\"data\" + 0.019*\"feature\" + 0.018*\"set\" + 0.017*\"training\" + 0.014*\"label\" + 0.014*\"class\" + 0.012*\"method\" + 0.012*\"example\" + 0.012*\"classiﬁcation\"'),\n",
       " (7,\n",
       "  '0.038*\"graph\" + 0.030*\"node\" + 0.018*\"algorithm\" + 0.016*\"tree\" + 0.016*\"set\" + 0.014*\"edge\" + 0.011*\"variable\" + 0.011*\"network\" + 0.010*\"structure\" + 0.009*\"problem\"'),\n",
       " (8,\n",
       "  '0.021*\"bound\" + 0.015*\"distribution\" + 0.014*\"function\" + 0.013*\"sample\" + 0.013*\"theorem\" + 0.011*\"probability\" + 0.011*\"let\" + 0.010*\"result\" + 0.008*\"error\" + 0.007*\"estimator\"'),\n",
       " (9,\n",
       "  '0.023*\"al\" + 0.022*\"arxiv\" + 0.021*\"et\" + 0.021*\"et al\" + 0.019*\"conference\" + 0.018*\"model\" + 0.018*\"page\" + 0.017*\"neural\" + 0.017*\"learning\" + 0.012*\"information\"'),\n",
       " (10,\n",
       "  '0.048*\"matrix\" + 0.013*\"sparse\" + 0.013*\"data\" + 0.012*\"vector\" + 0.011*\"linear\" + 0.010*\"noise\" + 0.009*\"method\" + 0.009*\"signal\" + 0.008*\"analysis\" + 0.008*\"algorithm\"'),\n",
       " (11,\n",
       "  '0.028*\"model\" + 0.014*\"response\" + 0.014*\"cell\" + 0.012*\"neuron\" + 0.011*\"stimulus\" + 0.010*\"time\" + 0.009*\"wa\" + 0.009*\"activity\" + 0.007*\"figure\" + 0.007*\"brain\"'),\n",
       " (12,\n",
       "  '0.034*\"point\" + 0.031*\"kernel\" + 0.025*\"data\" + 0.021*\"space\" + 0.020*\"distance\" + 0.018*\"clustering\" + 0.016*\"cluster\" + 0.012*\"algorithm\" + 0.012*\"set\" + 0.011*\"metric\"'),\n",
       " (13,\n",
       "  '0.027*\"algorithm\" + 0.020*\"gradient\" + 0.019*\"problem\" + 0.019*\"optimization\" + 0.017*\"method\" + 0.017*\"function\" + 0.012*\"convex\" + 0.011*\"convergence\" + 0.009*\"solution\" + 0.009*\"iteration\"'),\n",
       " (14,\n",
       "  '0.045*\"model\" + 0.025*\"distribution\" + 0.016*\"data\" + 0.013*\"parameter\" + 0.012*\"inference\" + 0.011*\"process\" + 0.011*\"prior\" + 0.011*\"posterior\" + 0.011*\"variable\" + 0.011*\"bayesian\"')]"
      ]
     },
     "execution_count": 35,
     "metadata": {},
     "output_type": "execute_result"
    }
   ],
   "source": [
    "lda = models.LdaModel(corpus = corpus, id2word = id2word, num_topics = 15, passes = 40)\n",
    "lda.print_topics()"
   ]
  },
  {
   "cell_type": "code",
   "execution_count": 36,
   "id": "through-jenny",
   "metadata": {
    "execution": {
     "iopub.execute_input": "2021-06-21T12:52:30.183453Z",
     "iopub.status.busy": "2021-06-21T12:52:30.162677Z",
     "iopub.status.idle": "2021-06-21T12:54:17.757251Z",
     "shell.execute_reply": "2021-06-21T12:54:17.757768Z"
    },
    "papermill": {
     "duration": 107.672503,
     "end_time": "2021-06-21T12:54:17.757957",
     "exception": false,
     "start_time": "2021-06-21T12:52:30.085454",
     "status": "completed"
    },
    "tags": []
   },
   "outputs": [
    {
     "name": "stdout",
     "output_type": "stream",
     "text": [
      "\n",
      "Perplexity:  -6.949021717311965\n"
     ]
    }
   ],
   "source": [
    "print('\\nPerplexity: ', lda.log_perplexity(corpus))  # a measure of how good the model is. Lower the better."
   ]
  },
  {
   "cell_type": "markdown",
   "id": "consolidated-shock",
   "metadata": {
    "papermill": {
     "duration": 0.06459,
     "end_time": "2021-06-21T12:54:17.886109",
     "exception": false,
     "start_time": "2021-06-21T12:54:17.821519",
     "status": "completed"
    },
    "tags": []
   },
   "source": [
    "Follow the code cells 20-27 [here](https://www.kaggle.com/ktakuma/topic-modeling-of-ml-papers-with-lda?rvi=1) to get the answers to:  \n",
    "$\\text{1. How have the dominant topics varied since 1987?}$  \n",
    "<a href=\"https://ibb.co/m5SBTLB\"><center><img src=\"https://i.ibb.co/9HGvgFv/Capture.jpg\" alt=\"Capture\" border=\"0\" /></center></a>  "
   ]
  },
  {
   "cell_type": "markdown",
   "id": "familiar-bargain",
   "metadata": {
    "papermill": {
     "duration": 0.063425,
     "end_time": "2021-06-21T12:54:18.014485",
     "exception": false,
     "start_time": "2021-06-21T12:54:17.951060",
     "status": "completed"
    },
    "tags": []
   },
   "source": [
    "$\\text{2. What are the most frequent words in each topic (analyzed through a WordCloud)?}$  \n",
    "<a href=\"https://ibb.co/THNwkWr\"><center><img src=\"https://i.ibb.co/2jpFyZ5/plot.jpg\" alt=\"plot\" border=\"0\"></center></a>"
   ]
  },
  {
   "cell_type": "markdown",
   "id": "color-peoples",
   "metadata": {
    "papermill": {
     "duration": 0.063221,
     "end_time": "2021-06-21T12:54:18.141365",
     "exception": false,
     "start_time": "2021-06-21T12:54:18.078144",
     "status": "completed"
    },
    "tags": []
   },
   "source": [
    "# 4. Clustering"
   ]
  },
  {
   "cell_type": "markdown",
   "id": "grand-furniture",
   "metadata": {
    "papermill": {
     "duration": 0.064832,
     "end_time": "2021-06-21T12:54:18.270425",
     "exception": false,
     "start_time": "2021-06-21T12:54:18.205593",
     "status": "completed"
    },
    "tags": []
   },
   "source": [
    "Read [this article](https://towardsdatascience.com/a-friendly-introduction-to-text-clustering-fa996bcefd04) for a info-packed introduction to text clustering."
   ]
  },
  {
   "cell_type": "code",
   "execution_count": 37,
   "id": "aware-bathroom",
   "metadata": {
    "execution": {
     "iopub.execute_input": "2021-06-21T12:54:18.403717Z",
     "iopub.status.busy": "2021-06-21T12:54:18.403131Z",
     "iopub.status.idle": "2021-06-21T12:54:18.405367Z",
     "shell.execute_reply": "2021-06-21T12:54:18.404760Z"
    },
    "papermill": {
     "duration": 0.070827,
     "end_time": "2021-06-21T12:54:18.405494",
     "exception": false,
     "start_time": "2021-06-21T12:54:18.334667",
     "status": "completed"
    },
    "tags": []
   },
   "outputs": [],
   "source": [
    "from sklearn.feature_extraction.text import TfidfVectorizer\n",
    "# Process text\n",
    "def identity_tokenizer(text):\n",
    "    return text"
   ]
  },
  {
   "cell_type": "code",
   "execution_count": 38,
   "id": "smaller-sociology",
   "metadata": {
    "execution": {
     "iopub.execute_input": "2021-06-21T12:54:18.536376Z",
     "iopub.status.busy": "2021-06-21T12:54:18.535753Z",
     "iopub.status.idle": "2021-06-21T13:01:19.118332Z",
     "shell.execute_reply": "2021-06-21T13:01:19.118849Z"
    },
    "papermill": {
     "duration": 420.649865,
     "end_time": "2021-06-21T13:01:19.119281",
     "exception": false,
     "start_time": "2021-06-21T12:54:18.469416",
     "status": "completed"
    },
    "tags": []
   },
   "outputs": [
    {
     "name": "stderr",
     "output_type": "stream",
     "text": [
      "/opt/conda/lib/python3.7/site-packages/sklearn/feature_extraction/text.py:391: UserWarning: Your stop_words may be inconsistent with your preprocessing. Tokenizing the stop words generated tokens ['b', 'c', 'd', 'e', 'f', 'g', 'h', 'k', 'l', 'm', 'n', 'o', 'p', 'r', 's', 't', 'u', 'v', 'w', 'x', 'y'] not in stop_words.\n",
      "  'stop_words.' % sorted(inconsistent))\n"
     ]
    },
    {
     "data": {
      "text/plain": [
       "(9680, 2500)"
      ]
     },
     "execution_count": 38,
     "metadata": {},
     "output_type": "execute_result"
    }
   ],
   "source": [
    "tfidf = TfidfVectorizer(stop_words = 'english', min_df = 2, tokenizer = identity_tokenizer, ngram_range = (1, 3), max_features = 2500)\n",
    "processed_docs_tfidf = tfidf.fit_transform(papers_updated.full_text)\n",
    "processed_docs_tfidf.shape"
   ]
  },
  {
   "cell_type": "code",
   "execution_count": 39,
   "id": "southeast-wrist",
   "metadata": {
    "execution": {
     "iopub.execute_input": "2021-06-21T13:01:19.259379Z",
     "iopub.status.busy": "2021-06-21T13:01:19.258647Z",
     "iopub.status.idle": "2021-06-21T13:03:38.409120Z",
     "shell.execute_reply": "2021-06-21T13:03:38.410223Z"
    },
    "papermill": {
     "duration": 139.219582,
     "end_time": "2021-06-21T13:03:38.410562",
     "exception": false,
     "start_time": "2021-06-21T13:01:19.190980",
     "status": "completed"
    },
    "tags": []
   },
   "outputs": [],
   "source": [
    "from sklearn.cluster import KMeans\n",
    "\n",
    "num_clusters = 15\n",
    "km = KMeans(n_clusters = num_clusters, max_iter = 1000)\n",
    "km.fit(processed_docs_tfidf)\n",
    "clusters = km.labels_.tolist()"
   ]
  },
  {
   "cell_type": "code",
   "execution_count": 40,
   "id": "wrong-robinson",
   "metadata": {
    "execution": {
     "iopub.execute_input": "2021-06-21T13:03:38.589218Z",
     "iopub.status.busy": "2021-06-21T13:03:38.585576Z",
     "iopub.status.idle": "2021-06-21T13:03:38.607100Z",
     "shell.execute_reply": "2021-06-21T13:03:38.606408Z"
    },
    "papermill": {
     "duration": 0.110319,
     "end_time": "2021-06-21T13:03:38.607247",
     "exception": false,
     "start_time": "2021-06-21T13:03:38.496928",
     "status": "completed"
    },
    "tags": []
   },
   "outputs": [
    {
     "data": {
      "text/html": [
       "<div>\n",
       "<style scoped>\n",
       "    .dataframe tbody tr th:only-of-type {\n",
       "        vertical-align: middle;\n",
       "    }\n",
       "\n",
       "    .dataframe tbody tr th {\n",
       "        vertical-align: top;\n",
       "    }\n",
       "\n",
       "    .dataframe thead th {\n",
       "        text-align: right;\n",
       "    }\n",
       "</style>\n",
       "<table border=\"1\" class=\"dataframe\">\n",
       "  <thead>\n",
       "    <tr style=\"text-align: right;\">\n",
       "      <th></th>\n",
       "      <th>source_id</th>\n",
       "      <th>year</th>\n",
       "      <th>title</th>\n",
       "      <th>abstract</th>\n",
       "      <th>full_text</th>\n",
       "      <th>Words_in_title</th>\n",
       "      <th>Chars_in_title</th>\n",
       "      <th>Avg_chars_in_title</th>\n",
       "      <th>Words_in_text</th>\n",
       "      <th>Chars_in_text</th>\n",
       "      <th>Avg_chars_in_text</th>\n",
       "      <th>Cluster</th>\n",
       "    </tr>\n",
       "  </thead>\n",
       "  <tbody>\n",
       "    <tr>\n",
       "      <th>0</th>\n",
       "      <td>27</td>\n",
       "      <td>1987</td>\n",
       "      <td>bitserial neural networks</td>\n",
       "      <td>a  bit   serial  vlsi  neural  network  is  described  from  an  ...</td>\n",
       "      <td>the function a synthetic neural network may aspire to mimic are th...</td>\n",
       "      <td>3</td>\n",
       "      <td>23</td>\n",
       "      <td>7.666667</td>\n",
       "      <td>3276</td>\n",
       "      <td>16564</td>\n",
       "      <td>5.056166</td>\n",
       "      <td>0</td>\n",
       "    </tr>\n",
       "    <tr>\n",
       "      <th>1</th>\n",
       "      <td>63</td>\n",
       "      <td>1987</td>\n",
       "      <td>connectivity versus entropy</td>\n",
       "      <td>how  does  the  connectivity  of a  neural  network  number  of s...</td>\n",
       "      <td>the most distinguishing feature of neural network is their ability...</td>\n",
       "      <td>3</td>\n",
       "      <td>25</td>\n",
       "      <td>8.333333</td>\n",
       "      <td>1221</td>\n",
       "      <td>5634</td>\n",
       "      <td>4.614251</td>\n",
       "      <td>8</td>\n",
       "    </tr>\n",
       "    <tr>\n",
       "      <th>2</th>\n",
       "      <td>60</td>\n",
       "      <td>1987</td>\n",
       "      <td>the hopfield model with multilevel neurons</td>\n",
       "      <td>the  hopfield  neural  network  model  for  associative  memory  ...</td>\n",
       "      <td>the ability to perfonn collective computation in a distributed sys...</td>\n",
       "      <td>6</td>\n",
       "      <td>37</td>\n",
       "      <td>6.166667</td>\n",
       "      <td>1914</td>\n",
       "      <td>7916</td>\n",
       "      <td>4.135841</td>\n",
       "      <td>8</td>\n",
       "    </tr>\n",
       "    <tr>\n",
       "      <th>3</th>\n",
       "      <td>59</td>\n",
       "      <td>1987</td>\n",
       "      <td>how neural nets work</td>\n",
       "      <td>there is  presently great interest in the abilities of neural net...</td>\n",
       "      <td>alan lapedes robert farber theoretical division how neural net wor...</td>\n",
       "      <td>4</td>\n",
       "      <td>17</td>\n",
       "      <td>4.250000</td>\n",
       "      <td>5190</td>\n",
       "      <td>24447</td>\n",
       "      <td>4.710405</td>\n",
       "      <td>8</td>\n",
       "    </tr>\n",
       "    <tr>\n",
       "      <th>4</th>\n",
       "      <td>69</td>\n",
       "      <td>1987</td>\n",
       "      <td>spatial organization of neural networks a probabilistic modeling a...</td>\n",
       "      <td>the  aim  of  this  paper  is  to  explore  the  spatial  organiz...</td>\n",
       "      <td>neural net model have been studied for many year in an attempt to ...</td>\n",
       "      <td>9</td>\n",
       "      <td>65</td>\n",
       "      <td>7.222222</td>\n",
       "      <td>2831</td>\n",
       "      <td>13934</td>\n",
       "      <td>4.921936</td>\n",
       "      <td>0</td>\n",
       "    </tr>\n",
       "  </tbody>\n",
       "</table>\n",
       "</div>"
      ],
      "text/plain": [
       "   source_id  year  \\\n",
       "0         27  1987   \n",
       "1         63  1987   \n",
       "2         60  1987   \n",
       "3         59  1987   \n",
       "4         69  1987   \n",
       "\n",
       "                                                                   title  \\\n",
       "0                                              bitserial neural networks   \n",
       "1                                            connectivity versus entropy   \n",
       "2                             the hopfield model with multilevel neurons   \n",
       "3                                                   how neural nets work   \n",
       "4  spatial organization of neural networks a probabilistic modeling a...   \n",
       "\n",
       "                                                                abstract  \\\n",
       "0   a  bit   serial  vlsi  neural  network  is  described  from  an  ...   \n",
       "1   how  does  the  connectivity  of a  neural  network  number  of s...   \n",
       "2   the  hopfield  neural  network  model  for  associative  memory  ...   \n",
       "3   there is  presently great interest in the abilities of neural net...   \n",
       "4   the  aim  of  this  paper  is  to  explore  the  spatial  organiz...   \n",
       "\n",
       "                                                               full_text  \\\n",
       "0  the function a synthetic neural network may aspire to mimic are th...   \n",
       "1  the most distinguishing feature of neural network is their ability...   \n",
       "2  the ability to perfonn collective computation in a distributed sys...   \n",
       "3  alan lapedes robert farber theoretical division how neural net wor...   \n",
       "4  neural net model have been studied for many year in an attempt to ...   \n",
       "\n",
       "   Words_in_title  Chars_in_title  Avg_chars_in_title  Words_in_text  \\\n",
       "0               3              23            7.666667           3276   \n",
       "1               3              25            8.333333           1221   \n",
       "2               6              37            6.166667           1914   \n",
       "3               4              17            4.250000           5190   \n",
       "4               9              65            7.222222           2831   \n",
       "\n",
       "   Chars_in_text  Avg_chars_in_text  Cluster  \n",
       "0          16564           5.056166        0  \n",
       "1           5634           4.614251        8  \n",
       "2           7916           4.135841        8  \n",
       "3          24447           4.710405        8  \n",
       "4          13934           4.921936        0  "
      ]
     },
     "execution_count": 40,
     "metadata": {},
     "output_type": "execute_result"
    }
   ],
   "source": [
    "sour = papers_updated.source_id.values\n",
    "mapping = dict(zip(sour,clusters))\n",
    "papers_updated[\"Cluster\"] = papers_updated.source_id.map(mapping)\n",
    "papers_updated.head()"
   ]
  },
  {
   "cell_type": "code",
   "execution_count": 41,
   "id": "little-fitting",
   "metadata": {
    "execution": {
     "iopub.execute_input": "2021-06-21T13:03:38.749611Z",
     "iopub.status.busy": "2021-06-21T13:03:38.746723Z",
     "iopub.status.idle": "2021-06-21T13:03:38.752792Z",
     "shell.execute_reply": "2021-06-21T13:03:38.753295Z"
    },
    "papermill": {
     "duration": 0.080086,
     "end_time": "2021-06-21T13:03:38.753505",
     "exception": false,
     "start_time": "2021-06-21T13:03:38.673419",
     "status": "completed"
    },
    "tags": []
   },
   "outputs": [
    {
     "data": {
      "text/plain": [
       "8     2631\n",
       "11    1658\n",
       "1     1425\n",
       "0     1161\n",
       "12     962\n",
       "2      887\n",
       "4      590\n",
       "7      229\n",
       "5       91\n",
       "6       19\n",
       "3       10\n",
       "9        7\n",
       "14       6\n",
       "13       4\n",
       "Name: Cluster, dtype: int64"
      ]
     },
     "execution_count": 41,
     "metadata": {},
     "output_type": "execute_result"
    }
   ],
   "source": [
    "papers_updated['Cluster'].value_counts()"
   ]
  },
  {
   "cell_type": "code",
   "execution_count": 42,
   "id": "appreciated-anxiety",
   "metadata": {
    "execution": {
     "iopub.execute_input": "2021-06-21T13:03:38.890731Z",
     "iopub.status.busy": "2021-06-21T13:03:38.889959Z",
     "iopub.status.idle": "2021-06-21T13:03:43.737340Z",
     "shell.execute_reply": "2021-06-21T13:03:43.736741Z"
    },
    "papermill": {
     "duration": 4.917289,
     "end_time": "2021-06-21T13:03:43.737575",
     "exception": false,
     "start_time": "2021-06-21T13:03:38.820286",
     "status": "completed"
    },
    "tags": []
   },
   "outputs": [
    {
     "data": {
      "image/png": "[encoded data removed]",
      "text/plain": [
       "<Figure size 864x576 with 1 Axes>"
      ]
     },
     "metadata": {
      "needs_background": "light"
     },
     "output_type": "display_data"
    }
   ],
   "source": [
    "# Create a plot similar to that in question 2 above.\n",
    "plt.rcParams['figure.figsize'] = (12,8)\n",
    "pd.crosstab(papers_updated['year'], papers_updated['Cluster'], normalize = 'index').plot.bar(stacked=True)\n",
    "plt.legend(bbox_to_anchor=(1.0, 0.9))\n",
    "ax = plt.subplot()\n",
    "plt.show()"
   ]
  }
 ],
 "metadata": {
  "kernelspec": {
   "display_name": "Python 3",
   "language": "python",
   "name": "python3"
  },
  "language_info": {
   "codemirror_mode": {
    "name": "ipython",
    "version": 3
   },
   "file_extension": ".py",
   "mimetype": "text/x-python",
   "name": "python",
   "nbconvert_exporter": "python",
   "pygments_lexer": "ipython3",
   "version": "3.7.10"
  },
  "papermill": {
   "default_parameters": {},
   "duration": 3766.934378,
   "end_time": "2021-06-21T13:03:46.717115",
   "environment_variables": {},
   "exception": null,
   "input_path": "__notebook__.ipynb",
   "output_path": "__notebook__.ipynb",
   "parameters": {},
   "start_time": "2021-06-21T12:00:59.782737",
   "version": "2.3.3"
  }
 },
 "nbformat": 4,
 "nbformat_minor": 5
}
